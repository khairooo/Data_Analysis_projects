{
 "cells": [
  {
   "cell_type": "code",
   "execution_count": 1,
   "id": "7913f496",
   "metadata": {},
   "outputs": [],
   "source": [
    "# import packages \n",
    "\n",
    "import pandas as pd\n",
    "import numpy as np \n",
    "import matplotlib.pyplot as plt \n",
    "import seaborn as sns \n"
   ]
  },
  {
   "cell_type": "markdown",
   "id": "9867a264",
   "metadata": {},
   "source": [
    "# Exploratory Data Analysis"
   ]
  },
  {
   "cell_type": "markdown",
   "id": "7bdcd395",
   "metadata": {},
   "source": [
    "## 1 ) Transaction Data "
   ]
  },
  {
   "cell_type": "code",
   "execution_count": 2,
   "id": "c58498a7",
   "metadata": {},
   "outputs": [],
   "source": [
    "# Load the data \n",
    "transaction = pd.read_excel(r\"C:\\Users\\dell\\Downloads\\QVI_transaction_data.xlsx\")"
   ]
  },
  {
   "cell_type": "code",
   "execution_count": 3,
   "id": "9e8b4f3e",
   "metadata": {},
   "outputs": [
    {
     "data": {
      "text/html": [
       "<div>\n",
       "<style scoped>\n",
       "    .dataframe tbody tr th:only-of-type {\n",
       "        vertical-align: middle;\n",
       "    }\n",
       "\n",
       "    .dataframe tbody tr th {\n",
       "        vertical-align: top;\n",
       "    }\n",
       "\n",
       "    .dataframe thead th {\n",
       "        text-align: right;\n",
       "    }\n",
       "</style>\n",
       "<table border=\"1\" class=\"dataframe\">\n",
       "  <thead>\n",
       "    <tr style=\"text-align: right;\">\n",
       "      <th></th>\n",
       "      <th>DATE</th>\n",
       "      <th>STORE_NBR</th>\n",
       "      <th>LYLTY_CARD_NBR</th>\n",
       "      <th>TXN_ID</th>\n",
       "      <th>PROD_NBR</th>\n",
       "      <th>PROD_NAME</th>\n",
       "      <th>PROD_QTY</th>\n",
       "      <th>TOT_SALES</th>\n",
       "    </tr>\n",
       "  </thead>\n",
       "  <tbody>\n",
       "    <tr>\n",
       "      <th>0</th>\n",
       "      <td>43390</td>\n",
       "      <td>1</td>\n",
       "      <td>1000</td>\n",
       "      <td>1</td>\n",
       "      <td>5</td>\n",
       "      <td>Natural Chip        Compny SeaSalt175g</td>\n",
       "      <td>2</td>\n",
       "      <td>6.0</td>\n",
       "    </tr>\n",
       "    <tr>\n",
       "      <th>1</th>\n",
       "      <td>43599</td>\n",
       "      <td>1</td>\n",
       "      <td>1307</td>\n",
       "      <td>348</td>\n",
       "      <td>66</td>\n",
       "      <td>CCs Nacho Cheese    175g</td>\n",
       "      <td>3</td>\n",
       "      <td>6.3</td>\n",
       "    </tr>\n",
       "    <tr>\n",
       "      <th>2</th>\n",
       "      <td>43605</td>\n",
       "      <td>1</td>\n",
       "      <td>1343</td>\n",
       "      <td>383</td>\n",
       "      <td>61</td>\n",
       "      <td>Smiths Crinkle Cut  Chips Chicken 170g</td>\n",
       "      <td>2</td>\n",
       "      <td>2.9</td>\n",
       "    </tr>\n",
       "    <tr>\n",
       "      <th>3</th>\n",
       "      <td>43329</td>\n",
       "      <td>2</td>\n",
       "      <td>2373</td>\n",
       "      <td>974</td>\n",
       "      <td>69</td>\n",
       "      <td>Smiths Chip Thinly  S/Cream&amp;Onion 175g</td>\n",
       "      <td>5</td>\n",
       "      <td>15.0</td>\n",
       "    </tr>\n",
       "    <tr>\n",
       "      <th>4</th>\n",
       "      <td>43330</td>\n",
       "      <td>2</td>\n",
       "      <td>2426</td>\n",
       "      <td>1038</td>\n",
       "      <td>108</td>\n",
       "      <td>Kettle Tortilla ChpsHny&amp;Jlpno Chili 150g</td>\n",
       "      <td>3</td>\n",
       "      <td>13.8</td>\n",
       "    </tr>\n",
       "    <tr>\n",
       "      <th>...</th>\n",
       "      <td>...</td>\n",
       "      <td>...</td>\n",
       "      <td>...</td>\n",
       "      <td>...</td>\n",
       "      <td>...</td>\n",
       "      <td>...</td>\n",
       "      <td>...</td>\n",
       "      <td>...</td>\n",
       "    </tr>\n",
       "    <tr>\n",
       "      <th>264831</th>\n",
       "      <td>43533</td>\n",
       "      <td>272</td>\n",
       "      <td>272319</td>\n",
       "      <td>270088</td>\n",
       "      <td>89</td>\n",
       "      <td>Kettle Sweet Chilli And Sour Cream 175g</td>\n",
       "      <td>2</td>\n",
       "      <td>10.8</td>\n",
       "    </tr>\n",
       "    <tr>\n",
       "      <th>264832</th>\n",
       "      <td>43325</td>\n",
       "      <td>272</td>\n",
       "      <td>272358</td>\n",
       "      <td>270154</td>\n",
       "      <td>74</td>\n",
       "      <td>Tostitos Splash Of  Lime 175g</td>\n",
       "      <td>1</td>\n",
       "      <td>4.4</td>\n",
       "    </tr>\n",
       "    <tr>\n",
       "      <th>264833</th>\n",
       "      <td>43410</td>\n",
       "      <td>272</td>\n",
       "      <td>272379</td>\n",
       "      <td>270187</td>\n",
       "      <td>51</td>\n",
       "      <td>Doritos Mexicana    170g</td>\n",
       "      <td>2</td>\n",
       "      <td>8.8</td>\n",
       "    </tr>\n",
       "    <tr>\n",
       "      <th>264834</th>\n",
       "      <td>43461</td>\n",
       "      <td>272</td>\n",
       "      <td>272379</td>\n",
       "      <td>270188</td>\n",
       "      <td>42</td>\n",
       "      <td>Doritos Corn Chip Mexican Jalapeno 150g</td>\n",
       "      <td>2</td>\n",
       "      <td>7.8</td>\n",
       "    </tr>\n",
       "    <tr>\n",
       "      <th>264835</th>\n",
       "      <td>43365</td>\n",
       "      <td>272</td>\n",
       "      <td>272380</td>\n",
       "      <td>270189</td>\n",
       "      <td>74</td>\n",
       "      <td>Tostitos Splash Of  Lime 175g</td>\n",
       "      <td>2</td>\n",
       "      <td>8.8</td>\n",
       "    </tr>\n",
       "  </tbody>\n",
       "</table>\n",
       "<p>264836 rows Ã— 8 columns</p>\n",
       "</div>"
      ],
      "text/plain": [
       "         DATE  STORE_NBR  LYLTY_CARD_NBR  TXN_ID  PROD_NBR  \\\n",
       "0       43390          1            1000       1         5   \n",
       "1       43599          1            1307     348        66   \n",
       "2       43605          1            1343     383        61   \n",
       "3       43329          2            2373     974        69   \n",
       "4       43330          2            2426    1038       108   \n",
       "...       ...        ...             ...     ...       ...   \n",
       "264831  43533        272          272319  270088        89   \n",
       "264832  43325        272          272358  270154        74   \n",
       "264833  43410        272          272379  270187        51   \n",
       "264834  43461        272          272379  270188        42   \n",
       "264835  43365        272          272380  270189        74   \n",
       "\n",
       "                                       PROD_NAME  PROD_QTY  TOT_SALES  \n",
       "0         Natural Chip        Compny SeaSalt175g         2        6.0  \n",
       "1                       CCs Nacho Cheese    175g         3        6.3  \n",
       "2         Smiths Crinkle Cut  Chips Chicken 170g         2        2.9  \n",
       "3         Smiths Chip Thinly  S/Cream&Onion 175g         5       15.0  \n",
       "4       Kettle Tortilla ChpsHny&Jlpno Chili 150g         3       13.8  \n",
       "...                                          ...       ...        ...  \n",
       "264831   Kettle Sweet Chilli And Sour Cream 175g         2       10.8  \n",
       "264832             Tostitos Splash Of  Lime 175g         1        4.4  \n",
       "264833                  Doritos Mexicana    170g         2        8.8  \n",
       "264834   Doritos Corn Chip Mexican Jalapeno 150g         2        7.8  \n",
       "264835             Tostitos Splash Of  Lime 175g         2        8.8  \n",
       "\n",
       "[264836 rows x 8 columns]"
      ]
     },
     "execution_count": 3,
     "metadata": {},
     "output_type": "execute_result"
    }
   ],
   "source": [
    "transaction "
   ]
  },
  {
   "cell_type": "code",
   "execution_count": 4,
   "id": "90a15cb8",
   "metadata": {},
   "outputs": [
    {
     "name": "stdout",
     "output_type": "stream",
     "text": [
      "<class 'pandas.core.frame.DataFrame'>\n",
      "RangeIndex: 264836 entries, 0 to 264835\n",
      "Data columns (total 8 columns):\n",
      " #   Column          Non-Null Count   Dtype  \n",
      "---  ------          --------------   -----  \n",
      " 0   DATE            264836 non-null  int64  \n",
      " 1   STORE_NBR       264836 non-null  int64  \n",
      " 2   LYLTY_CARD_NBR  264836 non-null  int64  \n",
      " 3   TXN_ID          264836 non-null  int64  \n",
      " 4   PROD_NBR        264836 non-null  int64  \n",
      " 5   PROD_NAME       264836 non-null  object \n",
      " 6   PROD_QTY        264836 non-null  int64  \n",
      " 7   TOT_SALES       264836 non-null  float64\n",
      "dtypes: float64(1), int64(6), object(1)\n",
      "memory usage: 16.2+ MB\n"
     ]
    }
   ],
   "source": [
    "transaction.info()"
   ]
  },
  {
   "cell_type": "code",
   "execution_count": 5,
   "id": "f2fa8c8a",
   "metadata": {},
   "outputs": [
    {
     "data": {
      "text/plain": [
       "1709"
      ]
     },
     "execution_count": 5,
     "metadata": {},
     "output_type": "execute_result"
    }
   ],
   "source": [
    "# Check dTXN_ID duplicate ID \n",
    "transaction.TXN_ID.duplicated().sum()"
   ]
  },
  {
   "cell_type": "code",
   "execution_count": 6,
   "id": "71fcb136",
   "metadata": {},
   "outputs": [
    {
     "data": {
      "text/html": [
       "<div>\n",
       "<style scoped>\n",
       "    .dataframe tbody tr th:only-of-type {\n",
       "        vertical-align: middle;\n",
       "    }\n",
       "\n",
       "    .dataframe tbody tr th {\n",
       "        vertical-align: top;\n",
       "    }\n",
       "\n",
       "    .dataframe thead th {\n",
       "        text-align: right;\n",
       "    }\n",
       "</style>\n",
       "<table border=\"1\" class=\"dataframe\">\n",
       "  <thead>\n",
       "    <tr style=\"text-align: right;\">\n",
       "      <th></th>\n",
       "      <th>DATE</th>\n",
       "      <th>STORE_NBR</th>\n",
       "      <th>LYLTY_CARD_NBR</th>\n",
       "      <th>TXN_ID</th>\n",
       "      <th>PROD_NBR</th>\n",
       "      <th>PROD_QTY</th>\n",
       "      <th>TOT_SALES</th>\n",
       "    </tr>\n",
       "  </thead>\n",
       "  <tbody>\n",
       "    <tr>\n",
       "      <th>count</th>\n",
       "      <td>264836.000000</td>\n",
       "      <td>264836.00000</td>\n",
       "      <td>2.648360e+05</td>\n",
       "      <td>2.648360e+05</td>\n",
       "      <td>264836.000000</td>\n",
       "      <td>264836.000000</td>\n",
       "      <td>264836.000000</td>\n",
       "    </tr>\n",
       "    <tr>\n",
       "      <th>mean</th>\n",
       "      <td>43464.036260</td>\n",
       "      <td>135.08011</td>\n",
       "      <td>1.355495e+05</td>\n",
       "      <td>1.351583e+05</td>\n",
       "      <td>56.583157</td>\n",
       "      <td>1.907309</td>\n",
       "      <td>7.304200</td>\n",
       "    </tr>\n",
       "    <tr>\n",
       "      <th>std</th>\n",
       "      <td>105.389282</td>\n",
       "      <td>76.78418</td>\n",
       "      <td>8.057998e+04</td>\n",
       "      <td>7.813303e+04</td>\n",
       "      <td>32.826638</td>\n",
       "      <td>0.643654</td>\n",
       "      <td>3.083226</td>\n",
       "    </tr>\n",
       "    <tr>\n",
       "      <th>min</th>\n",
       "      <td>43282.000000</td>\n",
       "      <td>1.00000</td>\n",
       "      <td>1.000000e+03</td>\n",
       "      <td>1.000000e+00</td>\n",
       "      <td>1.000000</td>\n",
       "      <td>1.000000</td>\n",
       "      <td>1.500000</td>\n",
       "    </tr>\n",
       "    <tr>\n",
       "      <th>25%</th>\n",
       "      <td>43373.000000</td>\n",
       "      <td>70.00000</td>\n",
       "      <td>7.002100e+04</td>\n",
       "      <td>6.760150e+04</td>\n",
       "      <td>28.000000</td>\n",
       "      <td>2.000000</td>\n",
       "      <td>5.400000</td>\n",
       "    </tr>\n",
       "    <tr>\n",
       "      <th>50%</th>\n",
       "      <td>43464.000000</td>\n",
       "      <td>130.00000</td>\n",
       "      <td>1.303575e+05</td>\n",
       "      <td>1.351375e+05</td>\n",
       "      <td>56.000000</td>\n",
       "      <td>2.000000</td>\n",
       "      <td>7.400000</td>\n",
       "    </tr>\n",
       "    <tr>\n",
       "      <th>75%</th>\n",
       "      <td>43555.000000</td>\n",
       "      <td>203.00000</td>\n",
       "      <td>2.030942e+05</td>\n",
       "      <td>2.027012e+05</td>\n",
       "      <td>85.000000</td>\n",
       "      <td>2.000000</td>\n",
       "      <td>9.200000</td>\n",
       "    </tr>\n",
       "    <tr>\n",
       "      <th>max</th>\n",
       "      <td>43646.000000</td>\n",
       "      <td>272.00000</td>\n",
       "      <td>2.373711e+06</td>\n",
       "      <td>2.415841e+06</td>\n",
       "      <td>114.000000</td>\n",
       "      <td>200.000000</td>\n",
       "      <td>650.000000</td>\n",
       "    </tr>\n",
       "  </tbody>\n",
       "</table>\n",
       "</div>"
      ],
      "text/plain": [
       "                DATE     STORE_NBR  LYLTY_CARD_NBR        TXN_ID  \\\n",
       "count  264836.000000  264836.00000    2.648360e+05  2.648360e+05   \n",
       "mean    43464.036260     135.08011    1.355495e+05  1.351583e+05   \n",
       "std       105.389282      76.78418    8.057998e+04  7.813303e+04   \n",
       "min     43282.000000       1.00000    1.000000e+03  1.000000e+00   \n",
       "25%     43373.000000      70.00000    7.002100e+04  6.760150e+04   \n",
       "50%     43464.000000     130.00000    1.303575e+05  1.351375e+05   \n",
       "75%     43555.000000     203.00000    2.030942e+05  2.027012e+05   \n",
       "max     43646.000000     272.00000    2.373711e+06  2.415841e+06   \n",
       "\n",
       "            PROD_NBR       PROD_QTY      TOT_SALES  \n",
       "count  264836.000000  264836.000000  264836.000000  \n",
       "mean       56.583157       1.907309       7.304200  \n",
       "std        32.826638       0.643654       3.083226  \n",
       "min         1.000000       1.000000       1.500000  \n",
       "25%        28.000000       2.000000       5.400000  \n",
       "50%        56.000000       2.000000       7.400000  \n",
       "75%        85.000000       2.000000       9.200000  \n",
       "max       114.000000     200.000000     650.000000  "
      ]
     },
     "execution_count": 6,
     "metadata": {},
     "output_type": "execute_result"
    }
   ],
   "source": [
    "transaction.describe()"
   ]
  },
  {
   "cell_type": "markdown",
   "id": "cecefd5d",
   "metadata": {},
   "source": [
    "##### Missing data"
   ]
  },
  {
   "cell_type": "code",
   "execution_count": 7,
   "id": "889ecb24",
   "metadata": {},
   "outputs": [
    {
     "data": {
      "text/plain": [
       "DATE              0\n",
       "STORE_NBR         0\n",
       "LYLTY_CARD_NBR    0\n",
       "TXN_ID            0\n",
       "PROD_NBR          0\n",
       "PROD_NAME         0\n",
       "PROD_QTY          0\n",
       "TOT_SALES         0\n",
       "dtype: int64"
      ]
     },
     "execution_count": 7,
     "metadata": {},
     "output_type": "execute_result"
    }
   ],
   "source": [
    "transaction.isnull().sum()"
   ]
  },
  {
   "cell_type": "markdown",
   "id": "212b5c8a",
   "metadata": {},
   "source": [
    "- Zero null value in the data provided "
   ]
  },
  {
   "cell_type": "markdown",
   "id": "d4477c09",
   "metadata": {},
   "source": [
    "#### STORE_NBR"
   ]
  },
  {
   "cell_type": "code",
   "execution_count": 8,
   "id": "50de375d",
   "metadata": {},
   "outputs": [
    {
     "name": "stdout",
     "output_type": "stream",
     "text": [
      "226    2022\n",
      "88     1873\n",
      "93     1832\n",
      "165    1819\n",
      "237    1785\n",
      "       ... \n",
      "11        2\n",
      "252       2\n",
      "206       2\n",
      "92        1\n",
      "76        1\n",
      "Name: STORE_NBR, Length: 272, dtype: int64\n"
     ]
    },
    {
     "data": {
      "text/plain": [
       "<AxesSubplot:title={'center':'THE BEST 10 STORES'}>"
      ]
     },
     "execution_count": 8,
     "metadata": {},
     "output_type": "execute_result"
    },
    {
     "data": {
      "image/png": "[encoded data removed]",
      "text/plain": [
       "<Figure size 432x288 with 1 Axes>"
      ]
     },
     "metadata": {
      "needs_background": "light"
     },
     "output_type": "display_data"
    }
   ],
   "source": [
    "print(transaction[\"STORE_NBR\"].value_counts())\n",
    "# the best 10 Store Number graph\n",
    "transaction[\"STORE_NBR\"].value_counts()[:10].plot.barh(title= \"THE BEST 10 STORES\")"
   ]
  },
  {
   "cell_type": "markdown",
   "id": "bc5d9579",
   "metadata": {},
   "source": [
    "- It can be seen that the *Store* with number **226** is the most frequent store with **2022** times followed by the **Store 88** with **1873** times "
   ]
  },
  {
   "cell_type": "markdown",
   "id": "50165d8c",
   "metadata": {},
   "source": [
    "#### PRODUCT_NBR"
   ]
  },
  {
   "cell_type": "code",
   "execution_count": 9,
   "id": "d8f33a84",
   "metadata": {},
   "outputs": [
    {
     "data": {
      "text/plain": [
       "114"
      ]
     },
     "execution_count": 9,
     "metadata": {},
     "output_type": "execute_result"
    }
   ],
   "source": [
    "len(transaction[\"PROD_NBR\"].unique())"
   ]
  },
  {
   "cell_type": "markdown",
   "id": "80f104c8",
   "metadata": {},
   "source": [
    "114 Is the number of the unique stores without dublication "
   ]
  },
  {
   "cell_type": "markdown",
   "id": "b0462f75",
   "metadata": {},
   "source": [
    "- There were *114* unique purchased product "
   ]
  },
  {
   "cell_type": "code",
   "execution_count": 10,
   "id": "f4230c2b",
   "metadata": {},
   "outputs": [
    {
     "name": "stdout",
     "output_type": "stream",
     "text": [
      "102    3304\n",
      "108    3296\n",
      "33     3269\n",
      "112    3268\n",
      "75     3265\n",
      "       ... \n",
      "11     1431\n",
      "76     1430\n",
      "98     1419\n",
      "29     1418\n",
      "72     1410\n",
      "Name: PROD_NBR, Length: 114, dtype: int64\n"
     ]
    },
    {
     "data": {
      "text/plain": [
       "<AxesSubplot:>"
      ]
     },
     "execution_count": 10,
     "metadata": {},
     "output_type": "execute_result"
    },
    {
     "data": {
      "image/png": "[encoded data removed]",
      "text/plain": [
       "<Figure size 432x288 with 1 Axes>"
      ]
     },
     "metadata": {
      "needs_background": "light"
     },
     "output_type": "display_data"
    }
   ],
   "source": [
    "print(transaction[\"PROD_NBR\"].value_counts())\n",
    "transaction[\"PROD_NBR\"].value_counts()[:10].plot.barh(color = 'r')"
   ]
  },
  {
   "cell_type": "markdown",
   "id": "e9e5b6fb",
   "metadata": {},
   "source": [
    "The most purchased products are at first **102 108 33 112 75 63 74 104 14 28**  with more than 3000 times "
   ]
  },
  {
   "cell_type": "markdown",
   "id": "cac619b7",
   "metadata": {},
   "source": [
    "#### PROD_NBR\tPROD_NAME\t"
   ]
  },
  {
   "cell_type": "code",
   "execution_count": 11,
   "id": "7ec57dc0",
   "metadata": {},
   "outputs": [],
   "source": [
    "prod = pd.Series(transaction.PROD_NBR.unique())  #.nunique()"
   ]
  },
  {
   "cell_type": "code",
   "execution_count": 12,
   "id": "10741421",
   "metadata": {},
   "outputs": [],
   "source": [
    "name=pd.Series(transaction.PROD_NAME.unique())   #.nunique()"
   ]
  },
  {
   "cell_type": "code",
   "execution_count": 13,
   "id": "a6f8b32b",
   "metadata": {},
   "outputs": [
    {
     "name": "stdout",
     "output_type": "stream",
     "text": [
      "[['Natural Chip        Compny SeaSalt175g', 5], ['CCs Nacho Cheese    175g', 66], ['Smiths Crinkle Cut  Chips Chicken 170g', 61], ['Smiths Chip Thinly  S/Cream&Onion 175g', 69], ['Kettle Tortilla ChpsHny&Jlpno Chili 150g', 108], ['Old El Paso Salsa   Dip Tomato Mild 300g', 57], ['Smiths Crinkle Chips Salt & Vinegar 330g', 16], ['Grain Waves         Sweet Chilli 210g', 24], ['Doritos Corn Chip Mexican Jalapeno 150g', 42], ['Grain Waves Sour    Cream&Chives 210G', 52], ['Kettle Sensations   Siracha Lime 150g', 114], ['Twisties Cheese     270g', 15], ['WW Crinkle Cut      Chicken 175g', 92], ['Thins Chips Light&  Tangy 175g', 44], ['CCs Original 175g', 54], ['Burger Rings 220g', 94], ['NCC Sour Cream &    Garden Chives 175g', 98], ['Doritos Corn Chip Southern Chicken 150g', 93], ['Cheezels Cheese Box 125g', 56], ['Smiths Crinkle      Original 330g', 7], ['Infzns Crn Crnchers Tangy Gcamole 110g', 31], ['Kettle Sea Salt     And Vinegar 175g', 32], ['Smiths Chip Thinly  Cut Original 175g', 111], ['Kettle Original 175g', 46], ['Red Rock Deli Thai  Chilli&Lime 150g', 13], ['Pringles Sthrn FriedChicken 134g', 99], ['Pringles Sweet&Spcy BBQ 134g', 26], ['Red Rock Deli SR    Salsa & Mzzrlla 150g', 64], ['Thins Chips         Originl saltd 175g', 22], ['Red Rock Deli Sp    Salt & Truffle 150G', 48], ['Smiths Thinly       Swt Chli&S/Cream175G', 37], ['Kettle Chilli 175g', 36], ['Doritos Mexicana    170g', 51], ['Smiths Crinkle Cut  French OnionDip 150g', 107], ['Natural ChipCo      Hony Soy Chckn175g', 106], ['Dorito Corn Chp     Supreme 380g', 4], ['Twisties Chicken270g', 113], ['Smiths Thinly Cut   Roast Chicken 175g', 45], ['Smiths Crinkle Cut  Tomato Salsa 150g', 39], ['Kettle Mozzarella   Basil & Pesto 175g', 102], ['Infuzions Thai SweetChili PotatoMix 110g', 104], ['Kettle Sensations   Camembert & Fig 150g', 3], ['Smith Crinkle Cut   Mac N Cheese 150g', 82], ['Kettle Honey Soy    Chicken 175g', 88], ['Thins Chips Seasonedchicken 175g', 40], ['Smiths Crinkle Cut  Salt & Vinegar 170g', 73], ['Infuzions BBQ Rib   Prawn Crackers 110g', 87], ['GrnWves Plus Btroot & Chilli Jam 180g', 84], ['Tyrrells Crisps     Lightly Salted 165g', 70], ['Kettle Sweet Chilli And Sour Cream 175g', 89], ['Doritos Salsa       Medium 300g', 101], ['Kettle 135g Swt Pot Sea Salt', 63], ['Pringles SourCream  Onion 134g', 25], ['Doritos Corn Chips  Original 170g', 47], ['Twisties Cheese     Burger 250g', 71], ['Old El Paso Salsa   Dip Chnky Tom Ht300g', 65], ['Cobs Popd Swt/Chlli &Sr/Cream Chips 110g', 33], ['Woolworths Mild     Salsa 300g', 35], ['Natural Chip Co     Tmato Hrb&Spce 175g', 12], ['Smiths Crinkle Cut  Chips Original 170g', 8], ['Cobs Popd Sea Salt  Chips 110g', 75], ['Smiths Crinkle Cut  Chips Chs&Onion170g', 100], ['French Fries Potato Chips 175g', 29], ['Old El Paso Salsa   Dip Tomato Med 300g', 59], ['Doritos Corn Chips  Cheese Supreme 170g', 30], ['Pringles Original   Crisps 134g', 81], ['RRD Chilli&         Coconut 150g', 67], ['WW Original Corn    Chips 200g', 110], ['Thins Potato Chips  Hot & Spicy 175g', 28], ['Cobs Popd Sour Crm  &Chives Chips 110g', 2], ['Smiths Crnkle Chip  Orgnl Big Bag 380g', 14], ['Doritos Corn Chips  Nacho Cheese 170g', 77], ['Kettle Sensations   BBQ&Maple 150g', 17], ['WW D/Style Chip     Sea Salt 200g', 83], ['Pringles Chicken    Salt Crips 134g', 68], ['WW Original Stacked Chips 160g', 96], ['Smiths Chip Thinly  CutSalt/Vinegr175g', 79], ['Cheezels Cheese 330g', 23], ['Tostitos Lightly    Salted 175g', 50], ['Thins Chips Salt &  Vinegar 175g', 78], ['Smiths Crinkle Cut  Chips Barbecue 170g', 1], ['Cheetos Puffs 165g', 86], ['RRD Sweet Chilli &  Sour Cream 165g', 53], ['WW Crinkle Cut      Original 175g', 72], ['Tostitos Splash Of  Lime 175g', 74], ['Woolworths Medium   Salsa 300g', 76], ['Kettle Tortilla ChpsBtroot&Ricotta 150g', 9], ['CCs Tasty Cheese    175g', 91], ['Woolworths Cheese   Rings 190g', 105], ['Tostitos Smoked     Chipotle 175g', 90], ['Pringles Barbeque   134g', 109], ['WW Supreme Cheese   Corn Chips 200g', 27], ['Pringles Mystery    Flavour 134g', 62], ['Tyrrells Crisps     Ched & Chives 165g', 112], ['Snbts Whlgrn Crisps Cheddr&Mstrd 90g', 55], ['Cheetos Chs & Bacon Balls 190g', 18], ['Pringles Slt Vingar 134g', 34], ['Infuzions SourCream&Herbs Veg Strws 110g', 49], ['Kettle Tortilla ChpsFeta&Garlic 150g', 60], ['Infuzions Mango     Chutny Papadums 70g', 38], ['RRD Steak &         Chimuchurri 150g', 103], ['RRD Honey Soy       Chicken 165g', 85], ['Sunbites Whlegrn    Crisps Frch/Onin 90g', 95], ['RRD Salt & Vinegar  165g', 97], ['Doritos Cheese      Supreme 330g', 20], ['Smiths Crinkle Cut  Snag&Sauce 150g', 19], ['WW Sour Cream &OnionStacked Chips 160g', 21], ['RRD Lime & Pepper   165g', 6], ['Natural ChipCo Sea  Salt & Vinegr 175g', 80], ['Red Rock Deli Chikn&Garlic Aioli 150g', 58], ['RRD SR Slow Rst     Pork Belly 150g', 10], ['RRD Pc Sea Salt     165g', 11], ['Smith Crinkle Cut   Bolognese 150g', 43], ['Doritos Salsa Mild  300g', 41]]\n"
     ]
    }
   ],
   "source": [
    "ls = []\n",
    "for x in range(len(prod)):\n",
    "    y = name[x]\n",
    "    z = prod[x]\n",
    "    lst = [y,z]\n",
    "    ls.append(lst)\n",
    "\n",
    "print(ls)\n"
   ]
  },
  {
   "cell_type": "code",
   "execution_count": 14,
   "id": "9329a07c",
   "metadata": {},
   "outputs": [
    {
     "data": {
      "text/plain": [
       "114"
      ]
     },
     "execution_count": 14,
     "metadata": {},
     "output_type": "execute_result"
    }
   ],
   "source": [
    "len(ls)"
   ]
  },
  {
   "cell_type": "markdown",
   "id": "7307c08c",
   "metadata": {},
   "source": [
    "All the work above was done to ensure that each product and the "
   ]
  },
  {
   "cell_type": "markdown",
   "id": "4feb52b7",
   "metadata": {},
   "source": [
    "#### TOT_SALE Distribution "
   ]
  },
  {
   "cell_type": "code",
   "execution_count": 15,
   "id": "4f7bb37d",
   "metadata": {},
   "outputs": [
    {
     "data": {
      "text/plain": [
       "count    264836.000000\n",
       "mean          7.304200\n",
       "std           3.083226\n",
       "min           1.500000\n",
       "25%           5.400000\n",
       "50%           7.400000\n",
       "75%           9.200000\n",
       "max         650.000000\n",
       "Name: TOT_SALES, dtype: float64"
      ]
     },
     "execution_count": 15,
     "metadata": {},
     "output_type": "execute_result"
    }
   ],
   "source": [
    "transaction.TOT_SALES.describe()"
   ]
  },
  {
   "cell_type": "code",
   "execution_count": 16,
   "id": "8946a45c",
   "metadata": {},
   "outputs": [],
   "source": [
    "# Removing Outliers \n",
    "\n",
    "def is_outlier(points, thresh=3.5):\n",
    "    if len(points.shape) == 1:\n",
    "        points = points[:,None]\n",
    "    median = np.median(points, axis=0)\n",
    "    diff = np.sum((points - median)**2, axis=-1)\n",
    "    diff = np.sqrt(diff)\n",
    "    med_abs_deviation = np.median(diff)\n",
    "\n",
    "    modified_z_score = 0.6745 * diff / med_abs_deviation\n",
    "\n",
    "    return modified_z_score > thresh"
   ]
  },
  {
   "cell_type": "code",
   "execution_count": 17,
   "id": "883ce851",
   "metadata": {},
   "outputs": [
    {
     "name": "stdout",
     "output_type": "stream",
     "text": [
      "[6.  6.3 2.9 ... 8.8 7.8 8.8]\n"
     ]
    },
    {
     "data": {
      "image/png": "[encoded data removed]",
      "text/plain": [
       "<Figure size 720x576 with 2 Axes>"
      ]
     },
     "metadata": {
      "needs_background": "light"
     },
     "output_type": "display_data"
    }
   ],
   "source": [
    "# The function above... In my case it's in a local utilities module\n",
    "\n",
    "\n",
    "# Generate some data\n",
    "x = transaction['TOT_SALES']\n",
    "\n",
    "# Append a few \"bad\" points\n",
    "x = np.r_[x, -3, -10, 100]\n",
    "\n",
    "# Keep only the \"good\" points\n",
    "# \"~\" operates as a logical not operator on boolean numpy arrays\n",
    "filtered = x[~is_outlier(x)]\n",
    "print(filtered)\n",
    "# Plot the results\n",
    "fig, (ax1, ax2) = plt.subplots(nrows=2,figsize= (10,8))\n",
    "\n",
    "ax1.hist(x)\n",
    "ax1.set_title('Original')\n",
    "\n",
    "ax2.hist(filtered)\n",
    "ax2.set_title('Without Outliers')\n",
    "\n",
    "plt.show()"
   ]
  },
  {
   "cell_type": "markdown",
   "id": "a433077f",
   "metadata": {},
   "source": [
    "In the graph above we can see how outliers effect our Data and the analysis, which means We should be aware about Outliers in each case "
   ]
  },
  {
   "cell_type": "markdown",
   "id": "a8e1cdf6",
   "metadata": {},
   "source": [
    "#### ROD_NBR\t with PROD_QTY\t"
   ]
  },
  {
   "cell_type": "code",
   "execution_count": 18,
   "id": "c55e3699",
   "metadata": {},
   "outputs": [
    {
     "data": {
      "text/html": [
       "<div>\n",
       "<style scoped>\n",
       "    .dataframe tbody tr th:only-of-type {\n",
       "        vertical-align: middle;\n",
       "    }\n",
       "\n",
       "    .dataframe tbody tr th {\n",
       "        vertical-align: top;\n",
       "    }\n",
       "\n",
       "    .dataframe thead th {\n",
       "        text-align: right;\n",
       "    }\n",
       "</style>\n",
       "<table border=\"1\" class=\"dataframe\">\n",
       "  <thead>\n",
       "    <tr style=\"text-align: right;\">\n",
       "      <th></th>\n",
       "      <th>PROD_QTY</th>\n",
       "    </tr>\n",
       "    <tr>\n",
       "      <th>PROD_NBR</th>\n",
       "      <th></th>\n",
       "    </tr>\n",
       "  </thead>\n",
       "  <tbody>\n",
       "    <tr>\n",
       "      <th>4</th>\n",
       "      <td>6509</td>\n",
       "    </tr>\n",
       "    <tr>\n",
       "      <th>102</th>\n",
       "      <td>6381</td>\n",
       "    </tr>\n",
       "    <tr>\n",
       "      <th>108</th>\n",
       "      <td>6309</td>\n",
       "    </tr>\n",
       "    <tr>\n",
       "      <th>75</th>\n",
       "      <td>6277</td>\n",
       "    </tr>\n",
       "    <tr>\n",
       "      <th>33</th>\n",
       "      <td>6256</td>\n",
       "    </tr>\n",
       "    <tr>\n",
       "      <th>74</th>\n",
       "      <td>6234</td>\n",
       "    </tr>\n",
       "    <tr>\n",
       "      <th>112</th>\n",
       "      <td>6227</td>\n",
       "    </tr>\n",
       "    <tr>\n",
       "      <th>63</th>\n",
       "      <td>6212</td>\n",
       "    </tr>\n",
       "    <tr>\n",
       "      <th>104</th>\n",
       "      <td>6206</td>\n",
       "    </tr>\n",
       "    <tr>\n",
       "      <th>28</th>\n",
       "      <td>6185</td>\n",
       "    </tr>\n",
       "  </tbody>\n",
       "</table>\n",
       "</div>"
      ],
      "text/plain": [
       "          PROD_QTY\n",
       "PROD_NBR          \n",
       "4             6509\n",
       "102           6381\n",
       "108           6309\n",
       "75            6277\n",
       "33            6256\n",
       "74            6234\n",
       "112           6227\n",
       "63            6212\n",
       "104           6206\n",
       "28            6185"
      ]
     },
     "execution_count": 18,
     "metadata": {},
     "output_type": "execute_result"
    }
   ],
   "source": [
    "group_PROD_NBR = transaction[['PROD_NBR','PROD_QTY']]\n",
    "grouped_PROD = group_PROD_NBR.groupby(['PROD_NBR']).sum()\n",
    "grouped_PROD.sort_values(['PROD_QTY'],ascending=False)[:10]"
   ]
  },
  {
   "cell_type": "code",
   "execution_count": 19,
   "id": "989435f8",
   "metadata": {},
   "outputs": [
    {
     "data": {
      "text/plain": [
       "array([<AxesSubplot:ylabel='PROD_QTY'>], dtype=object)"
      ]
     },
     "execution_count": 19,
     "metadata": {},
     "output_type": "execute_result"
    },
    {
     "data": {
      "image/png": "[encoded data removed]",
      "text/plain": [
       "<Figure size 432x432 with 1 Axes>"
      ]
     },
     "metadata": {},
     "output_type": "display_data"
    }
   ],
   "source": [
    "group_PROD_NBR = transaction[['PROD_NBR','PROD_QTY']]\n",
    "grouped_PROD = group_PROD_NBR.groupby(['PROD_NBR']).sum()\n",
    "grouped_PROD.sort_values(['PROD_QTY'],ascending=False)[:10].plot(kind = \"pie\", subplots= True,figsize = (6,6),legend = False\n",
    "                                                                ,title = \"Illustration of the best 10th Saled Production and their QTY  \")"
   ]
  },
  {
   "cell_type": "markdown",
   "id": "ecf1501e",
   "metadata": {},
   "source": [
    "#### ROD_NBR, PROD_QTY and TOT_SALES"
   ]
  },
  {
   "cell_type": "code",
   "execution_count": 20,
   "id": "68442fba",
   "metadata": {},
   "outputs": [
    {
     "data": {
      "text/html": [
       "<div>\n",
       "<style scoped>\n",
       "    .dataframe tbody tr th:only-of-type {\n",
       "        vertical-align: middle;\n",
       "    }\n",
       "\n",
       "    .dataframe tbody tr th {\n",
       "        vertical-align: top;\n",
       "    }\n",
       "\n",
       "    .dataframe thead th {\n",
       "        text-align: right;\n",
       "    }\n",
       "</style>\n",
       "<table border=\"1\" class=\"dataframe\">\n",
       "  <thead>\n",
       "    <tr style=\"text-align: right;\">\n",
       "      <th></th>\n",
       "      <th>PROD_QTY</th>\n",
       "      <th>TOT_SALES</th>\n",
       "    </tr>\n",
       "    <tr>\n",
       "      <th>PROD_NBR</th>\n",
       "      <th></th>\n",
       "      <th></th>\n",
       "    </tr>\n",
       "  </thead>\n",
       "  <tbody>\n",
       "    <tr>\n",
       "      <th>4</th>\n",
       "      <td>6509</td>\n",
       "      <td>40352.0</td>\n",
       "    </tr>\n",
       "    <tr>\n",
       "      <th>14</th>\n",
       "      <td>6164</td>\n",
       "      <td>36367.6</td>\n",
       "    </tr>\n",
       "    <tr>\n",
       "      <th>16</th>\n",
       "      <td>6106</td>\n",
       "      <td>34804.2</td>\n",
       "    </tr>\n",
       "    <tr>\n",
       "      <th>102</th>\n",
       "      <td>6381</td>\n",
       "      <td>34457.4</td>\n",
       "    </tr>\n",
       "    <tr>\n",
       "      <th>7</th>\n",
       "      <td>6018</td>\n",
       "      <td>34302.6</td>\n",
       "    </tr>\n",
       "    <tr>\n",
       "      <th>23</th>\n",
       "      <td>6017</td>\n",
       "      <td>34296.9</td>\n",
       "    </tr>\n",
       "    <tr>\n",
       "      <th>20</th>\n",
       "      <td>5858</td>\n",
       "      <td>33390.6</td>\n",
       "    </tr>\n",
       "    <tr>\n",
       "      <th>89</th>\n",
       "      <td>6120</td>\n",
       "      <td>33031.8</td>\n",
       "    </tr>\n",
       "    <tr>\n",
       "      <th>46</th>\n",
       "      <td>6064</td>\n",
       "      <td>32740.2</td>\n",
       "    </tr>\n",
       "    <tr>\n",
       "      <th>32</th>\n",
       "      <td>6035</td>\n",
       "      <td>32589.0</td>\n",
       "    </tr>\n",
       "  </tbody>\n",
       "</table>\n",
       "</div>"
      ],
      "text/plain": [
       "          PROD_QTY  TOT_SALES\n",
       "PROD_NBR                     \n",
       "4             6509    40352.0\n",
       "14            6164    36367.6\n",
       "16            6106    34804.2\n",
       "102           6381    34457.4\n",
       "7             6018    34302.6\n",
       "23            6017    34296.9\n",
       "20            5858    33390.6\n",
       "89            6120    33031.8\n",
       "46            6064    32740.2\n",
       "32            6035    32589.0"
      ]
     },
     "execution_count": 20,
     "metadata": {},
     "output_type": "execute_result"
    }
   ],
   "source": [
    "group_PROD_NBR_SALES = transaction[['PROD_NBR','PROD_QTY','TOT_SALES']]\n",
    "grouped_PROD_SALES = group_PROD_NBR_SALES.groupby(['PROD_NBR']).sum()\n",
    "grouped_PROD_SALES.sort_values(['TOT_SALES'],ascending=False)[:10]"
   ]
  },
  {
   "cell_type": "markdown",
   "id": "3b7c8312",
   "metadata": {},
   "source": [
    "#### Detecting outliers \n",
    "\n",
    "- 1_ PROD_QTY"
   ]
  },
  {
   "cell_type": "code",
   "execution_count": 21,
   "id": "dd3d9ec6",
   "metadata": {},
   "outputs": [
    {
     "data": {
      "text/plain": [
       "<matplotlib.collections.PathCollection at 0x11765a85dc0>"
      ]
     },
     "execution_count": 21,
     "metadata": {},
     "output_type": "execute_result"
    },
    {
     "data": {
      "image/png": "[encoded data removed]",
      "text/plain": [
       "<Figure size 432x288 with 1 Axes>"
      ]
     },
     "metadata": {
      "needs_background": "light"
     },
     "output_type": "display_data"
    }
   ],
   "source": [
    "#boxplot\n",
    "plt.scatter(transaction[\"PROD_QTY\"],transaction[\"TOT_SALES\"])\n"
   ]
  },
  {
   "cell_type": "markdown",
   "id": "475f18d2",
   "metadata": {},
   "source": [
    "- It can be seen that the data contains outliers and the scatter plot above illustrates that the PROD_QTY with 200 is an outlier value, but style rough to decide if we can drop it or not "
   ]
  },
  {
   "cell_type": "markdown",
   "id": "909777ca",
   "metadata": {},
   "source": [
    "## 2) Purchase_behaviour"
   ]
  },
  {
   "cell_type": "markdown",
   "id": "50e34d0a",
   "metadata": {},
   "source": [
    "This part is specified to analyse the second dataset of **purchased_behaviour**"
   ]
  },
  {
   "cell_type": "code",
   "execution_count": 22,
   "id": "189e0022",
   "metadata": {},
   "outputs": [
    {
     "data": {
      "text/html": [
       "<div>\n",
       "<style scoped>\n",
       "    .dataframe tbody tr th:only-of-type {\n",
       "        vertical-align: middle;\n",
       "    }\n",
       "\n",
       "    .dataframe tbody tr th {\n",
       "        vertical-align: top;\n",
       "    }\n",
       "\n",
       "    .dataframe thead th {\n",
       "        text-align: right;\n",
       "    }\n",
       "</style>\n",
       "<table border=\"1\" class=\"dataframe\">\n",
       "  <thead>\n",
       "    <tr style=\"text-align: right;\">\n",
       "      <th></th>\n",
       "      <th>LYLTY_CARD_NBR</th>\n",
       "      <th>LIFESTAGE</th>\n",
       "      <th>PREMIUM_CUSTOMER</th>\n",
       "    </tr>\n",
       "  </thead>\n",
       "  <tbody>\n",
       "    <tr>\n",
       "      <th>0</th>\n",
       "      <td>1000</td>\n",
       "      <td>YOUNG SINGLES/COUPLES</td>\n",
       "      <td>Premium</td>\n",
       "    </tr>\n",
       "    <tr>\n",
       "      <th>1</th>\n",
       "      <td>1002</td>\n",
       "      <td>YOUNG SINGLES/COUPLES</td>\n",
       "      <td>Mainstream</td>\n",
       "    </tr>\n",
       "    <tr>\n",
       "      <th>2</th>\n",
       "      <td>1003</td>\n",
       "      <td>YOUNG FAMILIES</td>\n",
       "      <td>Budget</td>\n",
       "    </tr>\n",
       "    <tr>\n",
       "      <th>3</th>\n",
       "      <td>1004</td>\n",
       "      <td>OLDER SINGLES/COUPLES</td>\n",
       "      <td>Mainstream</td>\n",
       "    </tr>\n",
       "    <tr>\n",
       "      <th>4</th>\n",
       "      <td>1005</td>\n",
       "      <td>MIDAGE SINGLES/COUPLES</td>\n",
       "      <td>Mainstream</td>\n",
       "    </tr>\n",
       "    <tr>\n",
       "      <th>5</th>\n",
       "      <td>1007</td>\n",
       "      <td>YOUNG SINGLES/COUPLES</td>\n",
       "      <td>Budget</td>\n",
       "    </tr>\n",
       "    <tr>\n",
       "      <th>6</th>\n",
       "      <td>1009</td>\n",
       "      <td>NEW FAMILIES</td>\n",
       "      <td>Premium</td>\n",
       "    </tr>\n",
       "    <tr>\n",
       "      <th>7</th>\n",
       "      <td>1010</td>\n",
       "      <td>YOUNG SINGLES/COUPLES</td>\n",
       "      <td>Mainstream</td>\n",
       "    </tr>\n",
       "    <tr>\n",
       "      <th>8</th>\n",
       "      <td>1011</td>\n",
       "      <td>OLDER SINGLES/COUPLES</td>\n",
       "      <td>Mainstream</td>\n",
       "    </tr>\n",
       "    <tr>\n",
       "      <th>9</th>\n",
       "      <td>1012</td>\n",
       "      <td>OLDER FAMILIES</td>\n",
       "      <td>Mainstream</td>\n",
       "    </tr>\n",
       "    <tr>\n",
       "      <th>10</th>\n",
       "      <td>1013</td>\n",
       "      <td>RETIREES</td>\n",
       "      <td>Budget</td>\n",
       "    </tr>\n",
       "    <tr>\n",
       "      <th>11</th>\n",
       "      <td>1016</td>\n",
       "      <td>OLDER FAMILIES</td>\n",
       "      <td>Mainstream</td>\n",
       "    </tr>\n",
       "    <tr>\n",
       "      <th>12</th>\n",
       "      <td>1018</td>\n",
       "      <td>YOUNG SINGLES/COUPLES</td>\n",
       "      <td>Mainstream</td>\n",
       "    </tr>\n",
       "    <tr>\n",
       "      <th>13</th>\n",
       "      <td>1019</td>\n",
       "      <td>OLDER SINGLES/COUPLES</td>\n",
       "      <td>Premium</td>\n",
       "    </tr>\n",
       "    <tr>\n",
       "      <th>14</th>\n",
       "      <td>1020</td>\n",
       "      <td>YOUNG SINGLES/COUPLES</td>\n",
       "      <td>Mainstream</td>\n",
       "    </tr>\n",
       "    <tr>\n",
       "      <th>15</th>\n",
       "      <td>1022</td>\n",
       "      <td>OLDER FAMILIES</td>\n",
       "      <td>Budget</td>\n",
       "    </tr>\n",
       "    <tr>\n",
       "      <th>16</th>\n",
       "      <td>1023</td>\n",
       "      <td>MIDAGE SINGLES/COUPLES</td>\n",
       "      <td>Premium</td>\n",
       "    </tr>\n",
       "    <tr>\n",
       "      <th>17</th>\n",
       "      <td>1024</td>\n",
       "      <td>YOUNG SINGLES/COUPLES</td>\n",
       "      <td>Premium</td>\n",
       "    </tr>\n",
       "    <tr>\n",
       "      <th>18</th>\n",
       "      <td>1025</td>\n",
       "      <td>YOUNG FAMILIES</td>\n",
       "      <td>Budget</td>\n",
       "    </tr>\n",
       "    <tr>\n",
       "      <th>19</th>\n",
       "      <td>1026</td>\n",
       "      <td>MIDAGE SINGLES/COUPLES</td>\n",
       "      <td>Premium</td>\n",
       "    </tr>\n",
       "  </tbody>\n",
       "</table>\n",
       "</div>"
      ],
      "text/plain": [
       "    LYLTY_CARD_NBR               LIFESTAGE PREMIUM_CUSTOMER\n",
       "0             1000   YOUNG SINGLES/COUPLES          Premium\n",
       "1             1002   YOUNG SINGLES/COUPLES       Mainstream\n",
       "2             1003          YOUNG FAMILIES           Budget\n",
       "3             1004   OLDER SINGLES/COUPLES       Mainstream\n",
       "4             1005  MIDAGE SINGLES/COUPLES       Mainstream\n",
       "5             1007   YOUNG SINGLES/COUPLES           Budget\n",
       "6             1009            NEW FAMILIES          Premium\n",
       "7             1010   YOUNG SINGLES/COUPLES       Mainstream\n",
       "8             1011   OLDER SINGLES/COUPLES       Mainstream\n",
       "9             1012          OLDER FAMILIES       Mainstream\n",
       "10            1013                RETIREES           Budget\n",
       "11            1016          OLDER FAMILIES       Mainstream\n",
       "12            1018   YOUNG SINGLES/COUPLES       Mainstream\n",
       "13            1019   OLDER SINGLES/COUPLES          Premium\n",
       "14            1020   YOUNG SINGLES/COUPLES       Mainstream\n",
       "15            1022          OLDER FAMILIES           Budget\n",
       "16            1023  MIDAGE SINGLES/COUPLES          Premium\n",
       "17            1024   YOUNG SINGLES/COUPLES          Premium\n",
       "18            1025          YOUNG FAMILIES           Budget\n",
       "19            1026  MIDAGE SINGLES/COUPLES          Premium"
      ]
     },
     "execution_count": 22,
     "metadata": {},
     "output_type": "execute_result"
    }
   ],
   "source": [
    "purchase_behaviour = pd.read_csv(r\"C:\\Users\\dell\\Downloads\\QVI_purchase_behaviour.csv\")\n",
    "purchase_behaviour.head(20)"
   ]
  },
  {
   "cell_type": "code",
   "execution_count": 23,
   "id": "d0ec59a1",
   "metadata": {},
   "outputs": [
    {
     "name": "stdout",
     "output_type": "stream",
     "text": [
      "<class 'pandas.core.frame.DataFrame'>\n",
      "RangeIndex: 72637 entries, 0 to 72636\n",
      "Data columns (total 3 columns):\n",
      " #   Column            Non-Null Count  Dtype \n",
      "---  ------            --------------  ----- \n",
      " 0   LYLTY_CARD_NBR    72637 non-null  int64 \n",
      " 1   LIFESTAGE         72637 non-null  object\n",
      " 2   PREMIUM_CUSTOMER  72637 non-null  object\n",
      "dtypes: int64(1), object(2)\n",
      "memory usage: 1.7+ MB\n"
     ]
    }
   ],
   "source": [
    "purchase_behaviour.info()"
   ]
  },
  {
   "cell_type": "code",
   "execution_count": 24,
   "id": "5cd41c5f",
   "metadata": {},
   "outputs": [
    {
     "data": {
      "text/plain": [
       "0"
      ]
     },
     "execution_count": 24,
     "metadata": {},
     "output_type": "execute_result"
    }
   ],
   "source": [
    "# Check duplicate card numbers \n",
    "purchase_behaviour.LYLTY_CARD_NBR.duplicated().sum()"
   ]
  },
  {
   "cell_type": "code",
   "execution_count": 25,
   "id": "ca0ed0cb",
   "metadata": {},
   "outputs": [
    {
     "data": {
      "text/plain": [
       "LYLTY_CARD_NBR      0\n",
       "LIFESTAGE           0\n",
       "PREMIUM_CUSTOMER    0\n",
       "dtype: int64"
      ]
     },
     "execution_count": 25,
     "metadata": {},
     "output_type": "execute_result"
    }
   ],
   "source": [
    "# Missing Values \n",
    "purchase_behaviour.isnull().sum()"
   ]
  },
  {
   "cell_type": "markdown",
   "id": "2eebaaec",
   "metadata": {},
   "source": [
    "- ZERO missing values "
   ]
  },
  {
   "cell_type": "code",
   "execution_count": 26,
   "id": "bb59f45d",
   "metadata": {},
   "outputs": [
    {
     "name": "stdout",
     "output_type": "stream",
     "text": [
      "RETIREES                  14805\n",
      "OLDER SINGLES/COUPLES     14609\n",
      "YOUNG SINGLES/COUPLES     14441\n",
      "OLDER FAMILIES             9780\n",
      "YOUNG FAMILIES             9178\n",
      "MIDAGE SINGLES/COUPLES     7275\n",
      "NEW FAMILIES               2549\n",
      "Name: LIFESTAGE, dtype: int64\n"
     ]
    },
    {
     "data": {
      "image/png": "[encoded data removed]",
      "text/plain": [
       "<Figure size 504x504 with 1 Axes>"
      ]
     },
     "metadata": {},
     "output_type": "display_data"
    }
   ],
   "source": [
    "print(purchase_behaviour['LIFESTAGE'].value_counts())\n",
    "purchase_behaviour['LIFESTAGE'].value_counts().plot.pie(figsize=(7,7),title = \"Count of all lifestages exist\",legend = False,\n",
    "                                                       ylabel = \"\");"
   ]
  },
  {
   "cell_type": "markdown",
   "id": "20d4337f",
   "metadata": {},
   "source": [
    "- obvious that LIFESTAGE contains 7 classes"
   ]
  },
  {
   "cell_type": "code",
   "execution_count": 27,
   "id": "05b7028f",
   "metadata": {},
   "outputs": [
    {
     "name": "stdout",
     "output_type": "stream",
     "text": [
      "Mainstream    29245\n",
      "Budget        24470\n",
      "Premium       18922\n",
      "Name: PREMIUM_CUSTOMER, dtype: int64\n"
     ]
    },
    {
     "data": {
      "image/png": "[encoded data removed]",
      "text/plain": [
       "<Figure size 504x504 with 1 Axes>"
      ]
     },
     "metadata": {
      "needs_background": "light"
     },
     "output_type": "display_data"
    }
   ],
   "source": [
    "# PREMIUM_CUSTOMER\n",
    "print(purchase_behaviour['PREMIUM_CUSTOMER'].value_counts())\n",
    "purchase_behaviour['PREMIUM_CUSTOMER'].value_counts().plot.bar(figsize=(7,7),title = \"Count of all PREMIUM CUSTOMERS exist\",legend = False,\n",
    "                                                       ylabel = \"\",rot = 0);"
   ]
  },
  {
   "cell_type": "markdown",
   "id": "59344b8f",
   "metadata": {},
   "source": [
    "Depending on the illustration above of the bar graph Mainstream has the high amount with 29245 purhasing time fllowed by Budget and Premium with 24470  and 18922 respectively "
   ]
  },
  {
   "cell_type": "code",
   "execution_count": 28,
   "id": "7943aab2",
   "metadata": {},
   "outputs": [
    {
     "data": {
      "text/plain": [
       "<AxesSubplot:ylabel='LIFESTAGE'>"
      ]
     },
     "execution_count": 28,
     "metadata": {},
     "output_type": "execute_result"
    },
    {
     "data": {
      "image/png": "[encoded data removed]",
      "text/plain": [
       "<Figure size 432x288 with 1 Axes>"
      ]
     },
     "metadata": {
      "needs_background": "light"
     },
     "output_type": "display_data"
    }
   ],
   "source": [
    "(purchase_behaviour[['LIFESTAGE','PREMIUM_CUSTOMER']].groupby('LIFESTAGE').count()).plot.barh(legend = False)"
   ]
  },
  {
   "cell_type": "code",
   "execution_count": 29,
   "id": "2ad677c3",
   "metadata": {},
   "outputs": [
    {
     "data": {
      "text/plain": [
       "PREMIUM_CUSTOMER  LIFESTAGE             \n",
       "Budget            MIDAGE SINGLES/COUPLES    1504\n",
       "                  NEW FAMILIES              1112\n",
       "                  OLDER FAMILIES            4675\n",
       "                  OLDER SINGLES/COUPLES     4929\n",
       "                  RETIREES                  4454\n",
       "                  YOUNG FAMILIES            4017\n",
       "                  YOUNG SINGLES/COUPLES     3779\n",
       "Mainstream        MIDAGE SINGLES/COUPLES    3340\n",
       "                  NEW FAMILIES               849\n",
       "                  OLDER FAMILIES            2831\n",
       "                  OLDER SINGLES/COUPLES     4930\n",
       "                  RETIREES                  6479\n",
       "                  YOUNG FAMILIES            2728\n",
       "                  YOUNG SINGLES/COUPLES     8088\n",
       "Premium           MIDAGE SINGLES/COUPLES    2431\n",
       "                  NEW FAMILIES               588\n",
       "                  OLDER FAMILIES            2274\n",
       "                  OLDER SINGLES/COUPLES     4750\n",
       "                  RETIREES                  3872\n",
       "                  YOUNG FAMILIES            2433\n",
       "                  YOUNG SINGLES/COUPLES     2574\n",
       "Name: PREMIUM_CUSTOMER, dtype: int64"
      ]
     },
     "execution_count": 29,
     "metadata": {},
     "output_type": "execute_result"
    }
   ],
   "source": [
    "purchase_behaviour[['LIFESTAGE','PREMIUM_CUSTOMER']].groupby(['PREMIUM_CUSTOMER','LIFESTAGE'])['PREMIUM_CUSTOMER'].count()"
   ]
  },
  {
   "cell_type": "code",
   "execution_count": 30,
   "id": "921c8cb5",
   "metadata": {},
   "outputs": [],
   "source": [
    "# insatallation to Save the notebook on PDF format \n",
    "#! pip install nbconvert"
   ]
  },
  {
   "cell_type": "code",
   "execution_count": 31,
   "id": "54ee0de6",
   "metadata": {},
   "outputs": [
    {
     "name": "stdout",
     "output_type": "stream",
     "text": [
      "Requirement already satisfied: nbconvert in c:\\users\\dell\\anaconda3\\envs\\nlp\\lib\\site-packages (6.1.0)\n",
      "Requirement already satisfied: bleach in c:\\users\\dell\\anaconda3\\envs\\nlp\\lib\\site-packages (from nbconvert) (4.1.0)\n",
      "Requirement already satisfied: entrypoints>=0.2.2 in c:\\users\\dell\\anaconda3\\envs\\nlp\\lib\\site-packages (from nbconvert) (0.3)\n",
      "Requirement already satisfied: jupyter-core in c:\\users\\dell\\anaconda3\\envs\\nlp\\lib\\site-packages (from nbconvert) (4.9.1)\n",
      "Requirement already satisfied: jinja2>=2.4 in c:\\users\\dell\\anaconda3\\envs\\nlp\\lib\\site-packages (from nbconvert) (2.11.3)\n",
      "Requirement already satisfied: mistune<2,>=0.8.1 in c:\\users\\dell\\anaconda3\\envs\\nlp\\lib\\site-packages (from nbconvert) (0.8.4)\n",
      "Requirement already satisfied: pandocfilters>=1.4.1 in c:\\users\\dell\\anaconda3\\envs\\nlp\\lib\\site-packages (from nbconvert) (1.5.0)\n",
      "Requirement already satisfied: testpath in c:\\users\\dell\\anaconda3\\envs\\nlp\\lib\\site-packages (from nbconvert) (0.5.0)\n",
      "Requirement already satisfied: defusedxml in c:\\users\\dell\\anaconda3\\envs\\nlp\\lib\\site-packages (from nbconvert) (0.7.1)\n",
      "Requirement already satisfied: nbclient<0.6.0,>=0.5.0 in c:\\users\\dell\\anaconda3\\envs\\nlp\\lib\\site-packages (from nbconvert) (0.5.11)\n",
      "Requirement already satisfied: nbformat>=4.4 in c:\\users\\dell\\anaconda3\\envs\\nlp\\lib\\site-packages (from nbconvert) (5.1.3)\n",
      "Requirement already satisfied: pygments>=2.4.1 in c:\\users\\dell\\anaconda3\\envs\\nlp\\lib\\site-packages (from nbconvert) (2.11.2)\n",
      "Requirement already satisfied: traitlets>=5.0 in c:\\users\\dell\\anaconda3\\envs\\nlp\\lib\\site-packages (from nbconvert) (5.1.1)\n",
      "Requirement already satisfied: jupyterlab-pygments in c:\\users\\dell\\anaconda3\\envs\\nlp\\lib\\site-packages (from nbconvert) (0.1.2)\n",
      "Requirement already satisfied: MarkupSafe>=0.23 in c:\\users\\dell\\anaconda3\\envs\\nlp\\lib\\site-packages (from jinja2>=2.4->nbconvert) (1.1.1)\n",
      "Requirement already satisfied: jupyter-client>=6.1.5 in c:\\users\\dell\\anaconda3\\envs\\nlp\\lib\\site-packages (from nbclient<0.6.0,>=0.5.0->nbconvert) (6.1.12)\n",
      "Requirement already satisfied: nest-asyncio in c:\\users\\dell\\anaconda3\\envs\\nlp\\lib\\site-packages (from nbclient<0.6.0,>=0.5.0->nbconvert) (1.5.1)\n",
      "Requirement already satisfied: python-dateutil>=2.1 in c:\\users\\dell\\anaconda3\\envs\\nlp\\lib\\site-packages (from jupyter-client>=6.1.5->nbclient<0.6.0,>=0.5.0->nbconvert) (2.8.2)\n",
      "Requirement already satisfied: pyzmq>=13 in c:\\users\\dell\\anaconda3\\envs\\nlp\\lib\\site-packages (from jupyter-client>=6.1.5->nbclient<0.6.0,>=0.5.0->nbconvert) (22.3.0)\n",
      "Requirement already satisfied: tornado>=4.1 in c:\\users\\dell\\anaconda3\\envs\\nlp\\lib\\site-packages (from jupyter-client>=6.1.5->nbclient<0.6.0,>=0.5.0->nbconvert) (6.1)\n",
      "Requirement already satisfied: pywin32>=1.0 in c:\\users\\dell\\anaconda3\\envs\\nlp\\lib\\site-packages (from jupyter-core->nbconvert) (302)\n",
      "Requirement already satisfied: jsonschema!=2.5.0,>=2.4 in c:\\users\\dell\\anaconda3\\envs\\nlp\\lib\\site-packages (from nbformat>=4.4->nbconvert) (3.2.0)\n",
      "Requirement already satisfied: ipython-genutils in c:\\users\\dell\\anaconda3\\envs\\nlp\\lib\\site-packages (from nbformat>=4.4->nbconvert) (0.2.0)\n",
      "Requirement already satisfied: setuptools in c:\\users\\dell\\anaconda3\\envs\\nlp\\lib\\site-packages (from jsonschema!=2.5.0,>=2.4->nbformat>=4.4->nbconvert) (58.0.4)\n",
      "Requirement already satisfied: pyrsistent>=0.14.0 in c:\\users\\dell\\anaconda3\\envs\\nlp\\lib\\site-packages (from jsonschema!=2.5.0,>=2.4->nbformat>=4.4->nbconvert) (0.18.0)\n",
      "Requirement already satisfied: six>=1.11.0 in c:\\users\\dell\\anaconda3\\envs\\nlp\\lib\\site-packages (from jsonschema!=2.5.0,>=2.4->nbformat>=4.4->nbconvert) (1.16.0)\n",
      "Requirement already satisfied: attrs>=17.4.0 in c:\\users\\dell\\anaconda3\\envs\\nlp\\lib\\site-packages (from jsonschema!=2.5.0,>=2.4->nbformat>=4.4->nbconvert) (21.4.0)\n",
      "Requirement already satisfied: webencodings in c:\\users\\dell\\anaconda3\\envs\\nlp\\lib\\site-packages (from bleach->nbconvert) (0.5.1)\n",
      "Requirement already satisfied: packaging in c:\\users\\dell\\anaconda3\\envs\\nlp\\lib\\site-packages (from bleach->nbconvert) (21.3)\n",
      "Requirement already satisfied: pyparsing!=3.0.5,>=2.0.2 in c:\\users\\dell\\anaconda3\\envs\\nlp\\lib\\site-packages (from packaging->bleach->nbconvert) (3.0.4)\n",
      "Requirement already satisfied: pyppeteer in c:\\users\\dell\\anaconda3\\envs\\nlp\\lib\\site-packages (1.0.2)\n",
      "Requirement already satisfied: websockets<11.0,>=10.0 in c:\\users\\dell\\anaconda3\\envs\\nlp\\lib\\site-packages (from pyppeteer) (10.4)\n",
      "Requirement already satisfied: importlib-metadata>=1.4 in c:\\users\\dell\\anaconda3\\envs\\nlp\\lib\\site-packages (from pyppeteer) (4.8.2)\n",
      "Requirement already satisfied: certifi>=2021 in c:\\users\\dell\\anaconda3\\envs\\nlp\\lib\\site-packages (from pyppeteer) (2022.6.15)\n",
      "Requirement already satisfied: appdirs<2.0.0,>=1.4.3 in c:\\users\\dell\\anaconda3\\envs\\nlp\\lib\\site-packages (from pyppeteer) (1.4.4)\n",
      "Requirement already satisfied: urllib3<2.0.0,>=1.25.8 in c:\\users\\dell\\anaconda3\\envs\\nlp\\lib\\site-packages (from pyppeteer) (1.26.8)\n",
      "Requirement already satisfied: pyee<9.0.0,>=8.1.0 in c:\\users\\dell\\anaconda3\\envs\\nlp\\lib\\site-packages (from pyppeteer) (8.2.2)\n",
      "Requirement already satisfied: tqdm<5.0.0,>=4.42.1 in c:\\users\\dell\\anaconda3\\envs\\nlp\\lib\\site-packages (from pyppeteer) (4.62.3)\n",
      "Requirement already satisfied: zipp>=0.5 in c:\\users\\dell\\anaconda3\\envs\\nlp\\lib\\site-packages (from importlib-metadata>=1.4->pyppeteer) (3.7.0)\n",
      "Requirement already satisfied: colorama in c:\\users\\dell\\anaconda3\\envs\\nlp\\lib\\site-packages (from tqdm<5.0.0,>=4.42.1->pyppeteer) (0.4.4)\n"
     ]
    }
   ],
   "source": [
    "! pip install nbconvert\n",
    "\n",
    "! pip install pyppeteer"
   ]
  },
  {
   "cell_type": "code",
   "execution_count": null,
   "id": "b80ffa43",
   "metadata": {},
   "outputs": [],
   "source": []
  }
 ],
 "metadata": {
  "kernelspec": {
   "display_name": "Python 3 (ipykernel)",
   "language": "python",
   "name": "python3"
  },
  "language_info": {
   "codemirror_mode": {
    "name": "ipython",
    "version": 3
   },
   "file_extension": ".py",
   "mimetype": "text/x-python",
   "name": "python",
   "nbconvert_exporter": "python",
   "pygments_lexer": "ipython3",
   "version": "3.9.7"
  }
 },
 "nbformat": 4,
 "nbformat_minor": 5
}
