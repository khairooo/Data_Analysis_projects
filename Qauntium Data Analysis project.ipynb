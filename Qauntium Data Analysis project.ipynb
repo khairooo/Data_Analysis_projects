{
 "cells": [
  {
   "cell_type": "code",
   "execution_count": 4,
   "id": "7913f496",
   "metadata": {},
   "outputs": [],
   "source": [
    "# import packages \n",
    "\n",
    "import pandas as pd\n",
    "import numpy as np \n",
    "import matplotlib.pyplot as plt \n",
    "import seaborn as sns \n"
   ]
  },
  {
   "cell_type": "markdown",
   "id": "9867a264",
   "metadata": {},
   "source": [
    "# Exploratory Data Analysis"
   ]
  },
  {
   "cell_type": "markdown",
   "id": "7bdcd395",
   "metadata": {},
   "source": [
    "## 1 ) Transaction Data "
   ]
  },
  {
   "cell_type": "code",
   "execution_count": 60,
   "id": "c58498a7",
   "metadata": {},
   "outputs": [],
   "source": [
    "# Load the data \n",
    "transaction = pd.read_excel(r\"C:\\Users\\dell\\Downloads\\QVI_transaction_data.xlsx\")"
   ]
  },
  {
   "cell_type": "code",
   "execution_count": 6,
   "id": "9e8b4f3e",
   "metadata": {},
   "outputs": [
    {
     "data": {
      "text/html": [
       "<div>\n",
       "<style scoped>\n",
       "    .dataframe tbody tr th:only-of-type {\n",
       "        vertical-align: middle;\n",
       "    }\n",
       "\n",
       "    .dataframe tbody tr th {\n",
       "        vertical-align: top;\n",
       "    }\n",
       "\n",
       "    .dataframe thead th {\n",
       "        text-align: right;\n",
       "    }\n",
       "</style>\n",
       "<table border=\"1\" class=\"dataframe\">\n",
       "  <thead>\n",
       "    <tr style=\"text-align: right;\">\n",
       "      <th></th>\n",
       "      <th>DATE</th>\n",
       "      <th>STORE_NBR</th>\n",
       "      <th>LYLTY_CARD_NBR</th>\n",
       "      <th>TXN_ID</th>\n",
       "      <th>PROD_NBR</th>\n",
       "      <th>PROD_NAME</th>\n",
       "      <th>PROD_QTY</th>\n",
       "      <th>TOT_SALES</th>\n",
       "    </tr>\n",
       "  </thead>\n",
       "  <tbody>\n",
       "    <tr>\n",
       "      <th>0</th>\n",
       "      <td>43390</td>\n",
       "      <td>1</td>\n",
       "      <td>1000</td>\n",
       "      <td>1</td>\n",
       "      <td>5</td>\n",
       "      <td>Natural Chip        Compny SeaSalt175g</td>\n",
       "      <td>2</td>\n",
       "      <td>6.0</td>\n",
       "    </tr>\n",
       "    <tr>\n",
       "      <th>1</th>\n",
       "      <td>43599</td>\n",
       "      <td>1</td>\n",
       "      <td>1307</td>\n",
       "      <td>348</td>\n",
       "      <td>66</td>\n",
       "      <td>CCs Nacho Cheese    175g</td>\n",
       "      <td>3</td>\n",
       "      <td>6.3</td>\n",
       "    </tr>\n",
       "    <tr>\n",
       "      <th>2</th>\n",
       "      <td>43605</td>\n",
       "      <td>1</td>\n",
       "      <td>1343</td>\n",
       "      <td>383</td>\n",
       "      <td>61</td>\n",
       "      <td>Smiths Crinkle Cut  Chips Chicken 170g</td>\n",
       "      <td>2</td>\n",
       "      <td>2.9</td>\n",
       "    </tr>\n",
       "    <tr>\n",
       "      <th>3</th>\n",
       "      <td>43329</td>\n",
       "      <td>2</td>\n",
       "      <td>2373</td>\n",
       "      <td>974</td>\n",
       "      <td>69</td>\n",
       "      <td>Smiths Chip Thinly  S/Cream&amp;Onion 175g</td>\n",
       "      <td>5</td>\n",
       "      <td>15.0</td>\n",
       "    </tr>\n",
       "    <tr>\n",
       "      <th>4</th>\n",
       "      <td>43330</td>\n",
       "      <td>2</td>\n",
       "      <td>2426</td>\n",
       "      <td>1038</td>\n",
       "      <td>108</td>\n",
       "      <td>Kettle Tortilla ChpsHny&amp;Jlpno Chili 150g</td>\n",
       "      <td>3</td>\n",
       "      <td>13.8</td>\n",
       "    </tr>\n",
       "    <tr>\n",
       "      <th>...</th>\n",
       "      <td>...</td>\n",
       "      <td>...</td>\n",
       "      <td>...</td>\n",
       "      <td>...</td>\n",
       "      <td>...</td>\n",
       "      <td>...</td>\n",
       "      <td>...</td>\n",
       "      <td>...</td>\n",
       "    </tr>\n",
       "    <tr>\n",
       "      <th>264831</th>\n",
       "      <td>43533</td>\n",
       "      <td>272</td>\n",
       "      <td>272319</td>\n",
       "      <td>270088</td>\n",
       "      <td>89</td>\n",
       "      <td>Kettle Sweet Chilli And Sour Cream 175g</td>\n",
       "      <td>2</td>\n",
       "      <td>10.8</td>\n",
       "    </tr>\n",
       "    <tr>\n",
       "      <th>264832</th>\n",
       "      <td>43325</td>\n",
       "      <td>272</td>\n",
       "      <td>272358</td>\n",
       "      <td>270154</td>\n",
       "      <td>74</td>\n",
       "      <td>Tostitos Splash Of  Lime 175g</td>\n",
       "      <td>1</td>\n",
       "      <td>4.4</td>\n",
       "    </tr>\n",
       "    <tr>\n",
       "      <th>264833</th>\n",
       "      <td>43410</td>\n",
       "      <td>272</td>\n",
       "      <td>272379</td>\n",
       "      <td>270187</td>\n",
       "      <td>51</td>\n",
       "      <td>Doritos Mexicana    170g</td>\n",
       "      <td>2</td>\n",
       "      <td>8.8</td>\n",
       "    </tr>\n",
       "    <tr>\n",
       "      <th>264834</th>\n",
       "      <td>43461</td>\n",
       "      <td>272</td>\n",
       "      <td>272379</td>\n",
       "      <td>270188</td>\n",
       "      <td>42</td>\n",
       "      <td>Doritos Corn Chip Mexican Jalapeno 150g</td>\n",
       "      <td>2</td>\n",
       "      <td>7.8</td>\n",
       "    </tr>\n",
       "    <tr>\n",
       "      <th>264835</th>\n",
       "      <td>43365</td>\n",
       "      <td>272</td>\n",
       "      <td>272380</td>\n",
       "      <td>270189</td>\n",
       "      <td>74</td>\n",
       "      <td>Tostitos Splash Of  Lime 175g</td>\n",
       "      <td>2</td>\n",
       "      <td>8.8</td>\n",
       "    </tr>\n",
       "  </tbody>\n",
       "</table>\n",
       "<p>264836 rows × 8 columns</p>\n",
       "</div>"
      ],
      "text/plain": [
       "         DATE  STORE_NBR  LYLTY_CARD_NBR  TXN_ID  PROD_NBR  \\\n",
       "0       43390          1            1000       1         5   \n",
       "1       43599          1            1307     348        66   \n",
       "2       43605          1            1343     383        61   \n",
       "3       43329          2            2373     974        69   \n",
       "4       43330          2            2426    1038       108   \n",
       "...       ...        ...             ...     ...       ...   \n",
       "264831  43533        272          272319  270088        89   \n",
       "264832  43325        272          272358  270154        74   \n",
       "264833  43410        272          272379  270187        51   \n",
       "264834  43461        272          272379  270188        42   \n",
       "264835  43365        272          272380  270189        74   \n",
       "\n",
       "                                       PROD_NAME  PROD_QTY  TOT_SALES  \n",
       "0         Natural Chip        Compny SeaSalt175g         2        6.0  \n",
       "1                       CCs Nacho Cheese    175g         3        6.3  \n",
       "2         Smiths Crinkle Cut  Chips Chicken 170g         2        2.9  \n",
       "3         Smiths Chip Thinly  S/Cream&Onion 175g         5       15.0  \n",
       "4       Kettle Tortilla ChpsHny&Jlpno Chili 150g         3       13.8  \n",
       "...                                          ...       ...        ...  \n",
       "264831   Kettle Sweet Chilli And Sour Cream 175g         2       10.8  \n",
       "264832             Tostitos Splash Of  Lime 175g         1        4.4  \n",
       "264833                  Doritos Mexicana    170g         2        8.8  \n",
       "264834   Doritos Corn Chip Mexican Jalapeno 150g         2        7.8  \n",
       "264835             Tostitos Splash Of  Lime 175g         2        8.8  \n",
       "\n",
       "[264836 rows x 8 columns]"
      ]
     },
     "execution_count": 6,
     "metadata": {},
     "output_type": "execute_result"
    }
   ],
   "source": [
    "transaction "
   ]
  },
  {
   "cell_type": "code",
   "execution_count": 7,
   "id": "90a15cb8",
   "metadata": {},
   "outputs": [
    {
     "name": "stdout",
     "output_type": "stream",
     "text": [
      "<class 'pandas.core.frame.DataFrame'>\n",
      "RangeIndex: 264836 entries, 0 to 264835\n",
      "Data columns (total 8 columns):\n",
      " #   Column          Non-Null Count   Dtype  \n",
      "---  ------          --------------   -----  \n",
      " 0   DATE            264836 non-null  int64  \n",
      " 1   STORE_NBR       264836 non-null  int64  \n",
      " 2   LYLTY_CARD_NBR  264836 non-null  int64  \n",
      " 3   TXN_ID          264836 non-null  int64  \n",
      " 4   PROD_NBR        264836 non-null  int64  \n",
      " 5   PROD_NAME       264836 non-null  object \n",
      " 6   PROD_QTY        264836 non-null  int64  \n",
      " 7   TOT_SALES       264836 non-null  float64\n",
      "dtypes: float64(1), int64(6), object(1)\n",
      "memory usage: 16.2+ MB\n"
     ]
    }
   ],
   "source": [
    "transaction.info()"
   ]
  },
  {
   "cell_type": "code",
   "execution_count": 8,
   "id": "73b22dd1",
   "metadata": {},
   "outputs": [
    {
     "data": {
      "text/plain": [
       "1709"
      ]
     },
     "execution_count": 8,
     "metadata": {},
     "output_type": "execute_result"
    }
   ],
   "source": [
    "# Check dTXN_ID duplicate ID \n",
    "transaction.TXN_ID.duplicated().sum()"
   ]
  },
  {
   "cell_type": "code",
   "execution_count": 9,
   "id": "71fcb136",
   "metadata": {},
   "outputs": [
    {
     "data": {
      "text/html": [
       "<div>\n",
       "<style scoped>\n",
       "    .dataframe tbody tr th:only-of-type {\n",
       "        vertical-align: middle;\n",
       "    }\n",
       "\n",
       "    .dataframe tbody tr th {\n",
       "        vertical-align: top;\n",
       "    }\n",
       "\n",
       "    .dataframe thead th {\n",
       "        text-align: right;\n",
       "    }\n",
       "</style>\n",
       "<table border=\"1\" class=\"dataframe\">\n",
       "  <thead>\n",
       "    <tr style=\"text-align: right;\">\n",
       "      <th></th>\n",
       "      <th>DATE</th>\n",
       "      <th>STORE_NBR</th>\n",
       "      <th>LYLTY_CARD_NBR</th>\n",
       "      <th>TXN_ID</th>\n",
       "      <th>PROD_NBR</th>\n",
       "      <th>PROD_QTY</th>\n",
       "      <th>TOT_SALES</th>\n",
       "    </tr>\n",
       "  </thead>\n",
       "  <tbody>\n",
       "    <tr>\n",
       "      <th>count</th>\n",
       "      <td>264836.000000</td>\n",
       "      <td>264836.00000</td>\n",
       "      <td>2.648360e+05</td>\n",
       "      <td>2.648360e+05</td>\n",
       "      <td>264836.000000</td>\n",
       "      <td>264836.000000</td>\n",
       "      <td>264836.000000</td>\n",
       "    </tr>\n",
       "    <tr>\n",
       "      <th>mean</th>\n",
       "      <td>43464.036260</td>\n",
       "      <td>135.08011</td>\n",
       "      <td>1.355495e+05</td>\n",
       "      <td>1.351583e+05</td>\n",
       "      <td>56.583157</td>\n",
       "      <td>1.907309</td>\n",
       "      <td>7.304200</td>\n",
       "    </tr>\n",
       "    <tr>\n",
       "      <th>std</th>\n",
       "      <td>105.389282</td>\n",
       "      <td>76.78418</td>\n",
       "      <td>8.057998e+04</td>\n",
       "      <td>7.813303e+04</td>\n",
       "      <td>32.826638</td>\n",
       "      <td>0.643654</td>\n",
       "      <td>3.083226</td>\n",
       "    </tr>\n",
       "    <tr>\n",
       "      <th>min</th>\n",
       "      <td>43282.000000</td>\n",
       "      <td>1.00000</td>\n",
       "      <td>1.000000e+03</td>\n",
       "      <td>1.000000e+00</td>\n",
       "      <td>1.000000</td>\n",
       "      <td>1.000000</td>\n",
       "      <td>1.500000</td>\n",
       "    </tr>\n",
       "    <tr>\n",
       "      <th>25%</th>\n",
       "      <td>43373.000000</td>\n",
       "      <td>70.00000</td>\n",
       "      <td>7.002100e+04</td>\n",
       "      <td>6.760150e+04</td>\n",
       "      <td>28.000000</td>\n",
       "      <td>2.000000</td>\n",
       "      <td>5.400000</td>\n",
       "    </tr>\n",
       "    <tr>\n",
       "      <th>50%</th>\n",
       "      <td>43464.000000</td>\n",
       "      <td>130.00000</td>\n",
       "      <td>1.303575e+05</td>\n",
       "      <td>1.351375e+05</td>\n",
       "      <td>56.000000</td>\n",
       "      <td>2.000000</td>\n",
       "      <td>7.400000</td>\n",
       "    </tr>\n",
       "    <tr>\n",
       "      <th>75%</th>\n",
       "      <td>43555.000000</td>\n",
       "      <td>203.00000</td>\n",
       "      <td>2.030942e+05</td>\n",
       "      <td>2.027012e+05</td>\n",
       "      <td>85.000000</td>\n",
       "      <td>2.000000</td>\n",
       "      <td>9.200000</td>\n",
       "    </tr>\n",
       "    <tr>\n",
       "      <th>max</th>\n",
       "      <td>43646.000000</td>\n",
       "      <td>272.00000</td>\n",
       "      <td>2.373711e+06</td>\n",
       "      <td>2.415841e+06</td>\n",
       "      <td>114.000000</td>\n",
       "      <td>200.000000</td>\n",
       "      <td>650.000000</td>\n",
       "    </tr>\n",
       "  </tbody>\n",
       "</table>\n",
       "</div>"
      ],
      "text/plain": [
       "                DATE     STORE_NBR  LYLTY_CARD_NBR        TXN_ID  \\\n",
       "count  264836.000000  264836.00000    2.648360e+05  2.648360e+05   \n",
       "mean    43464.036260     135.08011    1.355495e+05  1.351583e+05   \n",
       "std       105.389282      76.78418    8.057998e+04  7.813303e+04   \n",
       "min     43282.000000       1.00000    1.000000e+03  1.000000e+00   \n",
       "25%     43373.000000      70.00000    7.002100e+04  6.760150e+04   \n",
       "50%     43464.000000     130.00000    1.303575e+05  1.351375e+05   \n",
       "75%     43555.000000     203.00000    2.030942e+05  2.027012e+05   \n",
       "max     43646.000000     272.00000    2.373711e+06  2.415841e+06   \n",
       "\n",
       "            PROD_NBR       PROD_QTY      TOT_SALES  \n",
       "count  264836.000000  264836.000000  264836.000000  \n",
       "mean       56.583157       1.907309       7.304200  \n",
       "std        32.826638       0.643654       3.083226  \n",
       "min         1.000000       1.000000       1.500000  \n",
       "25%        28.000000       2.000000       5.400000  \n",
       "50%        56.000000       2.000000       7.400000  \n",
       "75%        85.000000       2.000000       9.200000  \n",
       "max       114.000000     200.000000     650.000000  "
      ]
     },
     "execution_count": 9,
     "metadata": {},
     "output_type": "execute_result"
    }
   ],
   "source": [
    "transaction.describe()"
   ]
  },
  {
   "cell_type": "markdown",
   "id": "5bb86740",
   "metadata": {},
   "source": [
    "##### Missing data"
   ]
  },
  {
   "cell_type": "code",
   "execution_count": 10,
   "id": "889ecb24",
   "metadata": {},
   "outputs": [
    {
     "data": {
      "text/plain": [
       "DATE              0\n",
       "STORE_NBR         0\n",
       "LYLTY_CARD_NBR    0\n",
       "TXN_ID            0\n",
       "PROD_NBR          0\n",
       "PROD_NAME         0\n",
       "PROD_QTY          0\n",
       "TOT_SALES         0\n",
       "dtype: int64"
      ]
     },
     "execution_count": 10,
     "metadata": {},
     "output_type": "execute_result"
    }
   ],
   "source": [
    "transaction.isnull().sum()"
   ]
  },
  {
   "cell_type": "markdown",
   "id": "4f95d0d7",
   "metadata": {},
   "source": [
    "- Zero null value in the data provided "
   ]
  },
  {
   "cell_type": "markdown",
   "id": "15133392",
   "metadata": {},
   "source": [
    "#### STORE_NBR"
   ]
  },
  {
   "cell_type": "code",
   "execution_count": 11,
   "id": "50de375d",
   "metadata": {},
   "outputs": [
    {
     "name": "stdout",
     "output_type": "stream",
     "text": [
      "226    2022\n",
      "88     1873\n",
      "93     1832\n",
      "165    1819\n",
      "237    1785\n",
      "       ... \n",
      "11        2\n",
      "252       2\n",
      "206       2\n",
      "92        1\n",
      "76        1\n",
      "Name: STORE_NBR, Length: 272, dtype: int64\n"
     ]
    },
    {
     "data": {
      "text/plain": [
       "<AxesSubplot:title={'center':'THE BEST 10 STORES'}>"
      ]
     },
     "execution_count": 11,
     "metadata": {},
     "output_type": "execute_result"
    },
    {
     "data": {
      "image/png": "[encoded data removed]",
      "text/plain": [
       "<Figure size 432x288 with 1 Axes>"
      ]
     },
     "metadata": {
      "needs_background": "light"
     },
     "output_type": "display_data"
    }
   ],
   "source": [
    "print(transaction[\"STORE_NBR\"].value_counts())\n",
    "# the best 10 Store Number graph\n",
    "transaction[\"STORE_NBR\"].value_counts()[:10].plot.barh(title= \"THE BEST 10 STORES\")"
   ]
  },
  {
   "cell_type": "markdown",
   "id": "a896b1c1",
   "metadata": {},
   "source": [
    "- It can be seen that the *Store* with number **226** is the most frequent store with **2022** times followed by the **Store 88** with **1873** times "
   ]
  },
  {
   "cell_type": "markdown",
   "id": "8086e6a2",
   "metadata": {},
   "source": [
    "#### PRODUCT_NBR"
   ]
  },
  {
   "cell_type": "code",
   "execution_count": 12,
   "id": "c17a6603",
   "metadata": {},
   "outputs": [
    {
     "data": {
      "text/plain": [
       "114"
      ]
     },
     "execution_count": 12,
     "metadata": {},
     "output_type": "execute_result"
    }
   ],
   "source": [
    "len(transaction[\"PROD_NBR\"].unique())"
   ]
  },
  {
   "cell_type": "markdown",
   "id": "cf900427",
   "metadata": {},
   "source": [
    "114 Is the number of the unique stores without dublication "
   ]
  },
  {
   "cell_type": "markdown",
   "id": "c9159faa",
   "metadata": {},
   "source": [
    "- There were *114* unique purchased product "
   ]
  },
  {
   "cell_type": "code",
   "execution_count": 13,
   "id": "dc8398f5",
   "metadata": {},
   "outputs": [
    {
     "name": "stdout",
     "output_type": "stream",
     "text": [
      "102    3304\n",
      "108    3296\n",
      "33     3269\n",
      "112    3268\n",
      "75     3265\n",
      "       ... \n",
      "11     1431\n",
      "76     1430\n",
      "98     1419\n",
      "29     1418\n",
      "72     1410\n",
      "Name: PROD_NBR, Length: 114, dtype: int64\n"
     ]
    },
    {
     "data": {
      "text/plain": [
       "<AxesSubplot:>"
      ]
     },
     "execution_count": 13,
     "metadata": {},
     "output_type": "execute_result"
    },
    {
     "data": {
      "image/png": "[encoded data removed]",
      "text/plain": [
       "<Figure size 432x288 with 1 Axes>"
      ]
     },
     "metadata": {
      "needs_background": "light"
     },
     "output_type": "display_data"
    }
   ],
   "source": [
    "print(transaction[\"PROD_NBR\"].value_counts())\n",
    "transaction[\"PROD_NBR\"].value_counts()[:10].plot.barh(color = 'r')"
   ]
  },
  {
   "cell_type": "markdown",
   "id": "4a9cd47b",
   "metadata": {},
   "source": [
    "The most purchased products are at first **102 108 33 112 75 63 74 104 14 28**  with more than 3000 times "
   ]
  },
  {
   "cell_type": "markdown",
   "id": "34ab27ed",
   "metadata": {},
   "source": [
    "#### PROD_NBR\tPROD_NAME\t"
   ]
  },
  {
   "cell_type": "code",
   "execution_count": 14,
   "id": "f5611d7e",
   "metadata": {},
   "outputs": [],
   "source": [
    "prod = pd.Series(transaction.PROD_NBR.unique())  #.nunique()"
   ]
  },
  {
   "cell_type": "code",
   "execution_count": 15,
   "id": "cb169d55",
   "metadata": {},
   "outputs": [],
   "source": [
    "name=pd.Series(transaction.PROD_NAME.unique())   #.nunique()"
   ]
  },
  {
   "cell_type": "code",
   "execution_count": 16,
   "id": "99f03818",
   "metadata": {},
   "outputs": [
    {
     "name": "stdout",
     "output_type": "stream",
     "text": [
      "[['Natural Chip        Compny SeaSalt175g', 5], ['CCs Nacho Cheese    175g', 66], ['Smiths Crinkle Cut  Chips Chicken 170g', 61], ['Smiths Chip Thinly  S/Cream&Onion 175g', 69], ['Kettle Tortilla ChpsHny&Jlpno Chili 150g', 108], ['Old El Paso Salsa   Dip Tomato Mild 300g', 57], ['Smiths Crinkle Chips Salt & Vinegar 330g', 16], ['Grain Waves         Sweet Chilli 210g', 24], ['Doritos Corn Chip Mexican Jalapeno 150g', 42], ['Grain Waves Sour    Cream&Chives 210G', 52], ['Kettle Sensations   Siracha Lime 150g', 114], ['Twisties Cheese     270g', 15], ['WW Crinkle Cut      Chicken 175g', 92], ['Thins Chips Light&  Tangy 175g', 44], ['CCs Original 175g', 54], ['Burger Rings 220g', 94], ['NCC Sour Cream &    Garden Chives 175g', 98], ['Doritos Corn Chip Southern Chicken 150g', 93], ['Cheezels Cheese Box 125g', 56], ['Smiths Crinkle      Original 330g', 7], ['Infzns Crn Crnchers Tangy Gcamole 110g', 31], ['Kettle Sea Salt     And Vinegar 175g', 32], ['Smiths Chip Thinly  Cut Original 175g', 111], ['Kettle Original 175g', 46], ['Red Rock Deli Thai  Chilli&Lime 150g', 13], ['Pringles Sthrn FriedChicken 134g', 99], ['Pringles Sweet&Spcy BBQ 134g', 26], ['Red Rock Deli SR    Salsa & Mzzrlla 150g', 64], ['Thins Chips         Originl saltd 175g', 22], ['Red Rock Deli Sp    Salt & Truffle 150G', 48], ['Smiths Thinly       Swt Chli&S/Cream175G', 37], ['Kettle Chilli 175g', 36], ['Doritos Mexicana    170g', 51], ['Smiths Crinkle Cut  French OnionDip 150g', 107], ['Natural ChipCo      Hony Soy Chckn175g', 106], ['Dorito Corn Chp     Supreme 380g', 4], ['Twisties Chicken270g', 113], ['Smiths Thinly Cut   Roast Chicken 175g', 45], ['Smiths Crinkle Cut  Tomato Salsa 150g', 39], ['Kettle Mozzarella   Basil & Pesto 175g', 102], ['Infuzions Thai SweetChili PotatoMix 110g', 104], ['Kettle Sensations   Camembert & Fig 150g', 3], ['Smith Crinkle Cut   Mac N Cheese 150g', 82], ['Kettle Honey Soy    Chicken 175g', 88], ['Thins Chips Seasonedchicken 175g', 40], ['Smiths Crinkle Cut  Salt & Vinegar 170g', 73], ['Infuzions BBQ Rib   Prawn Crackers 110g', 87], ['GrnWves Plus Btroot & Chilli Jam 180g', 84], ['Tyrrells Crisps     Lightly Salted 165g', 70], ['Kettle Sweet Chilli And Sour Cream 175g', 89], ['Doritos Salsa       Medium 300g', 101], ['Kettle 135g Swt Pot Sea Salt', 63], ['Pringles SourCream  Onion 134g', 25], ['Doritos Corn Chips  Original 170g', 47], ['Twisties Cheese     Burger 250g', 71], ['Old El Paso Salsa   Dip Chnky Tom Ht300g', 65], ['Cobs Popd Swt/Chlli &Sr/Cream Chips 110g', 33], ['Woolworths Mild     Salsa 300g', 35], ['Natural Chip Co     Tmato Hrb&Spce 175g', 12], ['Smiths Crinkle Cut  Chips Original 170g', 8], ['Cobs Popd Sea Salt  Chips 110g', 75], ['Smiths Crinkle Cut  Chips Chs&Onion170g', 100], ['French Fries Potato Chips 175g', 29], ['Old El Paso Salsa   Dip Tomato Med 300g', 59], ['Doritos Corn Chips  Cheese Supreme 170g', 30], ['Pringles Original   Crisps 134g', 81], ['RRD Chilli&         Coconut 150g', 67], ['WW Original Corn    Chips 200g', 110], ['Thins Potato Chips  Hot & Spicy 175g', 28], ['Cobs Popd Sour Crm  &Chives Chips 110g', 2], ['Smiths Crnkle Chip  Orgnl Big Bag 380g', 14], ['Doritos Corn Chips  Nacho Cheese 170g', 77], ['Kettle Sensations   BBQ&Maple 150g', 17], ['WW D/Style Chip     Sea Salt 200g', 83], ['Pringles Chicken    Salt Crips 134g', 68], ['WW Original Stacked Chips 160g', 96], ['Smiths Chip Thinly  CutSalt/Vinegr175g', 79], ['Cheezels Cheese 330g', 23], ['Tostitos Lightly    Salted 175g', 50], ['Thins Chips Salt &  Vinegar 175g', 78], ['Smiths Crinkle Cut  Chips Barbecue 170g', 1], ['Cheetos Puffs 165g', 86], ['RRD Sweet Chilli &  Sour Cream 165g', 53], ['WW Crinkle Cut      Original 175g', 72], ['Tostitos Splash Of  Lime 175g', 74], ['Woolworths Medium   Salsa 300g', 76], ['Kettle Tortilla ChpsBtroot&Ricotta 150g', 9], ['CCs Tasty Cheese    175g', 91], ['Woolworths Cheese   Rings 190g', 105], ['Tostitos Smoked     Chipotle 175g', 90], ['Pringles Barbeque   134g', 109], ['WW Supreme Cheese   Corn Chips 200g', 27], ['Pringles Mystery    Flavour 134g', 62], ['Tyrrells Crisps     Ched & Chives 165g', 112], ['Snbts Whlgrn Crisps Cheddr&Mstrd 90g', 55], ['Cheetos Chs & Bacon Balls 190g', 18], ['Pringles Slt Vingar 134g', 34], ['Infuzions SourCream&Herbs Veg Strws 110g', 49], ['Kettle Tortilla ChpsFeta&Garlic 150g', 60], ['Infuzions Mango     Chutny Papadums 70g', 38], ['RRD Steak &         Chimuchurri 150g', 103], ['RRD Honey Soy       Chicken 165g', 85], ['Sunbites Whlegrn    Crisps Frch/Onin 90g', 95], ['RRD Salt & Vinegar  165g', 97], ['Doritos Cheese      Supreme 330g', 20], ['Smiths Crinkle Cut  Snag&Sauce 150g', 19], ['WW Sour Cream &OnionStacked Chips 160g', 21], ['RRD Lime & Pepper   165g', 6], ['Natural ChipCo Sea  Salt & Vinegr 175g', 80], ['Red Rock Deli Chikn&Garlic Aioli 150g', 58], ['RRD SR Slow Rst     Pork Belly 150g', 10], ['RRD Pc Sea Salt     165g', 11], ['Smith Crinkle Cut   Bolognese 150g', 43], ['Doritos Salsa Mild  300g', 41]]\n"
     ]
    }
   ],
   "source": [
    "ls = []\n",
    "for x in range(len(prod)):\n",
    "    y = name[x]\n",
    "    z = prod[x]\n",
    "    lst = [y,z]\n",
    "    ls.append(lst)\n",
    "\n",
    "print(ls)\n"
   ]
  },
  {
   "cell_type": "code",
   "execution_count": 17,
   "id": "b6571917",
   "metadata": {},
   "outputs": [
    {
     "data": {
      "text/plain": [
       "114"
      ]
     },
     "execution_count": 17,
     "metadata": {},
     "output_type": "execute_result"
    }
   ],
   "source": [
    "len(ls)"
   ]
  },
  {
   "cell_type": "markdown",
   "id": "d7c7282a",
   "metadata": {},
   "source": [
    "All the work above was done to ensure that each product and the "
   ]
  },
  {
   "cell_type": "markdown",
   "id": "f1a06cca",
   "metadata": {},
   "source": [
    "#### TOT_SALE Distribution "
   ]
  },
  {
   "cell_type": "code",
   "execution_count": 53,
   "id": "41c27e46",
   "metadata": {},
   "outputs": [
    {
     "data": {
      "text/plain": [
       "count    264836.000000\n",
       "mean          7.304200\n",
       "std           3.083226\n",
       "min           1.500000\n",
       "25%           5.400000\n",
       "50%           7.400000\n",
       "75%           9.200000\n",
       "max         650.000000\n",
       "Name: TOT_SALES, dtype: float64"
      ]
     },
     "execution_count": 53,
     "metadata": {},
     "output_type": "execute_result"
    }
   ],
   "source": [
    "transaction.TOT_SALES.describe()"
   ]
  },
  {
   "cell_type": "code",
   "execution_count": 64,
   "id": "aea09fae",
   "metadata": {},
   "outputs": [],
   "source": [
    "# Removing Outliers \n",
    "\n",
    "def is_outlier(points, thresh=3.5):\n",
    "    if len(points.shape) == 1:\n",
    "        points = points[:,None]\n",
    "    median = np.median(points, axis=0)\n",
    "    diff = np.sum((points - median)**2, axis=-1)\n",
    "    diff = np.sqrt(diff)\n",
    "    med_abs_deviation = np.median(diff)\n",
    "\n",
    "    modified_z_score = 0.6745 * diff / med_abs_deviation\n",
    "\n",
    "    return modified_z_score > thresh"
   ]
  },
  {
   "cell_type": "code",
   "execution_count": 68,
   "id": "45ffcec9",
   "metadata": {},
   "outputs": [
    {
     "name": "stdout",
     "output_type": "stream",
     "text": [
      "[6.  6.3 2.9 ... 8.8 7.8 8.8]\n"
     ]
    },
    {
     "data": {
      "image/png": "[encoded data removed]",
      "text/plain": [
       "<Figure size 720x576 with 2 Axes>"
      ]
     },
     "metadata": {
      "needs_background": "light"
     },
     "output_type": "display_data"
    }
   ],
   "source": [
    "# The function above... In my case it's in a local utilities module\n",
    "\n",
    "\n",
    "# Generate some data\n",
    "x = transaction['TOT_SALES']\n",
    "\n",
    "# Append a few \"bad\" points\n",
    "x = np.r_[x, -3, -10, 100]\n",
    "\n",
    "# Keep only the \"good\" points\n",
    "# \"~\" operates as a logical not operator on boolean numpy arrays\n",
    "filtered = x[~is_outlier(x)]\n",
    "print(filtered)\n",
    "# Plot the results\n",
    "fig, (ax1, ax2) = plt.subplots(nrows=2,figsize= (10,8))\n",
    "\n",
    "ax1.hist(x)\n",
    "ax1.set_title('Original')\n",
    "\n",
    "ax2.hist(filtered)\n",
    "ax2.set_title('Without Outliers')\n",
    "\n",
    "plt.show()"
   ]
  },
  {
   "cell_type": "markdown",
   "id": "aa8ed59a",
   "metadata": {},
   "source": [
    "In the graph above we can see how outliers effect our Data and the analysis, which means We should be aware about Outliers in each case "
   ]
  },
  {
   "cell_type": "markdown",
   "id": "9ae73db8",
   "metadata": {},
   "source": [
    "#### ROD_NBR\t with PROD_QTY\t"
   ]
  },
  {
   "cell_type": "code",
   "execution_count": null,
   "id": "8448d85f",
   "metadata": {},
   "outputs": [],
   "source": [
    "group_PROD_NBR = transaction[['PROD_NBR','PROD_QTY']]\n",
    "grouped_PROD = group_PROD_NBR.groupby(['PROD_NBR']).sum()\n",
    "grouped_PROD.sort_values(['PROD_QTY'],ascending=False)[:10]"
   ]
  },
  {
   "cell_type": "code",
   "execution_count": null,
   "id": "ee9448cc",
   "metadata": {},
   "outputs": [],
   "source": [
    "group_PROD_NBR = transaction[['PROD_NBR','PROD_QTY']]\n",
    "grouped_PROD = group_PROD_NBR.groupby(['PROD_NBR']).sum()\n",
    "grouped_PROD.sort_values(['PROD_QTY'],ascending=False)[:10].plot(kind = \"pie\", subplots= True,figsize = (6,6),legend = False\n",
    "                                                                ,title = \"Illustration of the best 10th Saled Production and their QTY  \")"
   ]
  },
  {
   "cell_type": "markdown",
   "id": "41cd2db4",
   "metadata": {},
   "source": [
    "#### ROD_NBR, PROD_QTY and TOT_SALES"
   ]
  },
  {
   "cell_type": "code",
   "execution_count": null,
   "id": "865d30f8",
   "metadata": {},
   "outputs": [],
   "source": [
    "group_PROD_NBR_SALES = transaction[['PROD_NBR','PROD_QTY','TOT_SALES']]\n",
    "grouped_PROD_SALES = group_PROD_NBR_SALES.groupby(['PROD_NBR']).sum()\n",
    "grouped_PROD_SALES.sort_values(['TOT_SALES'],ascending=False)[:10]"
   ]
  },
  {
   "cell_type": "markdown",
   "id": "276a74c3",
   "metadata": {},
   "source": [
    "#### Detecting outliers \n",
    "\n",
    "- 1_ PROD_QTY"
   ]
  },
  {
   "cell_type": "code",
   "execution_count": null,
   "id": "c755747c",
   "metadata": {},
   "outputs": [],
   "source": [
    "#boxplot\n",
    "plt.scatter(transaction[\"PROD_QTY\"],transaction[\"TOT_SALES\"])\n"
   ]
  },
  {
   "cell_type": "markdown",
   "id": "fd552da2",
   "metadata": {},
   "source": [
    "- It can be seen that the data contains outliers and the scatter plot above illustrates that the PROD_QTY with 200 is an outlier value, but style rough to decide if we can drop it or not "
   ]
  },
  {
   "cell_type": "markdown",
   "id": "d6103532",
   "metadata": {},
   "source": [
    "## 2) Purchase_behaviour"
   ]
  },
  {
   "cell_type": "markdown",
   "id": "3c04c867",
   "metadata": {},
   "source": [
    "This part is specified to analyse the second dataset of **purchased_behaviour**"
   ]
  },
  {
   "cell_type": "code",
   "execution_count": null,
   "id": "169d4616",
   "metadata": {},
   "outputs": [],
   "source": [
    "purchase_behaviour = pd.read_csv(r\"C:\\Users\\dell\\Downloads\\QVI_purchase_behaviour.csv\")\n",
    "purchase_behaviour.head(20)"
   ]
  },
  {
   "cell_type": "code",
   "execution_count": null,
   "id": "45d4f701",
   "metadata": {},
   "outputs": [],
   "source": [
    "purchase_behaviour.info()"
   ]
  },
  {
   "cell_type": "code",
   "execution_count": null,
   "id": "d2241c33",
   "metadata": {},
   "outputs": [],
   "source": [
    "# Check duplicate card numbers \n",
    "purchase_behaviour.LYLTY_CARD_NBR.duplicated().sum()"
   ]
  },
  {
   "cell_type": "code",
   "execution_count": null,
   "id": "92371ce5",
   "metadata": {},
   "outputs": [],
   "source": [
    "# Missing Values \n",
    "purchase_behaviour.isnull().sum()"
   ]
  },
  {
   "cell_type": "markdown",
   "id": "53c9c536",
   "metadata": {},
   "source": [
    "- ZERO missing values "
   ]
  },
  {
   "cell_type": "code",
   "execution_count": null,
   "id": "e99ad454",
   "metadata": {},
   "outputs": [],
   "source": [
    "print(purchase_behaviour['LIFESTAGE'].value_counts())\n",
    "purchase_behaviour['LIFESTAGE'].value_counts().plot.pie(figsize=(7,7),title = \"Count of all lifestages exist\",legend = False,\n",
    "                                                       ylabel = \"\");"
   ]
  },
  {
   "cell_type": "markdown",
   "id": "8637bc9b",
   "metadata": {},
   "source": [
    "- obvious that LIFESTAGE contains 7 classes"
   ]
  },
  {
   "cell_type": "code",
   "execution_count": null,
   "id": "ebe4ed57",
   "metadata": {},
   "outputs": [],
   "source": [
    "# PREMIUM_CUSTOMER\n",
    "print(purchase_behaviour['PREMIUM_CUSTOMER'].value_counts())\n",
    "purchase_behaviour['PREMIUM_CUSTOMER'].value_counts().plot.bar(figsize=(7,7),title = \"Count of all PREMIUM CUSTOMERS exist\",legend = False,\n",
    "                                                       ylabel = \"\",rot = 0);"
   ]
  },
  {
   "cell_type": "markdown",
   "id": "16322355",
   "metadata": {},
   "source": [
    "Depending on the illustration above of the bar graph Mainstream has the high amount with 29245 purhasing time fllowed by Budget and Premium with 24470  and 18922 respectively "
   ]
  },
  {
   "cell_type": "code",
   "execution_count": null,
   "id": "17e45298",
   "metadata": {},
   "outputs": [],
   "source": [
    "(purchase_behaviour[['LIFESTAGE','PREMIUM_CUSTOMER']].groupby('LIFESTAGE').count()).plot.barh(legend = False)"
   ]
  },
  {
   "cell_type": "code",
   "execution_count": null,
   "id": "e89166f2",
   "metadata": {},
   "outputs": [],
   "source": [
    "purchase_behaviour[['LIFESTAGE','PREMIUM_CUSTOMER']].groupby(['PREMIUM_CUSTOMER','LIFESTAGE'])['PREMIUM_CUSTOMER'].count()"
   ]
  },
  {
   "cell_type": "code",
   "execution_count": null,
   "id": "165e0cc0",
   "metadata": {},
   "outputs": [],
   "source": [
    "# insatallation to Save the notebook on PDF format \n",
    "#! pip install nbconvert"
   ]
  },
  {
   "cell_type": "code",
   "execution_count": null,
   "id": "7e4706dd",
   "metadata": {},
   "outputs": [],
   "source": [
    "! pip install nbconvert\n",
    "\n",
    "! pip install pyppeteer"
   ]
  },
  {
   "cell_type": "code",
   "execution_count": null,
   "id": "002a5ebc",
   "metadata": {},
   "outputs": [],
   "source": []
  }
 ],
 "metadata": {
  "kernelspec": {
   "display_name": "Python 3 (ipykernel)",
   "language": "python",
   "name": "python3"
  },
  "language_info": {
   "codemirror_mode": {
    "name": "ipython",
    "version": 3
   },
   "file_extension": ".py",
   "mimetype": "text/x-python",
   "name": "python",
   "nbconvert_exporter": "python",
   "pygments_lexer": "ipython3",
   "version": "3.9.7"
  }
 },
 "nbformat": 4,
 "nbformat_minor": 5
}
